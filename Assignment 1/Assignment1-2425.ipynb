{
 "cells": [
  {
   "cell_type": "markdown",
   "metadata": {
    "id": "qE4WC2_4wygJ"
   },
   "source": [
    "# Assignment 1\n",
    "**Credits**: Federico Ruggeri, Eleonora Mancini, Paolo Torroni\n",
    "\n",
    "**Keywords**: Sexism Detection, Multi-class Classification, RNNs, Transformers, Huggingface\n",
    "\n"
   ]
  },
  {
   "cell_type": "markdown",
   "metadata": {
    "id": "fL69zGpmx01k"
   },
   "source": [
    "# Contact\n",
    "For any doubt, question, issue or help, you can always contact us at the following email addresses:\n",
    "\n",
    "Teaching Assistants:\n",
    "\n",
    "- Federico Ruggeri -> federico.ruggeri6@unibo.it\n",
    "- Eleonora Mancini -> e.mancini@unibo.it\n",
    "\n",
    "Professor:\n",
    "- Paolo Torroni -> p.torroni@unibo.it"
   ]
  },
  {
   "cell_type": "markdown",
   "metadata": {
    "id": "55jnW-xKxi-2"
   },
   "source": [
    "# Introduction\n",
    "You are asked to address the [EXIST 2023 Task 1](https://clef2023.clef-initiative.eu/index.php?page=Pages/labs.html#EXIST) on sexism detection."
   ]
  },
  {
   "cell_type": "markdown",
   "metadata": {
    "id": "9HWp5bGwySsb"
   },
   "source": [
    "## Problem Definition\n",
    "The systems have to decide whether or not a given tweet contains or describes sexist expressions or behaviors (i.e., it is sexist itself, describes a sexist situation or criticizes a sexist behavior).\n",
    "\n",
    "### Examples:\n",
    "\n",
    "**Text**: *Can’t go a day without women womening*\n",
    "\n",
    "**Label**: Sexist\n",
    "\n",
    "**Text**: *''Society's set norms! Happy men's day though!#weareequal''*\n",
    "\n",
    "**Label**: Not sexist"
   ]
  },
  {
   "cell_type": "code",
   "execution_count": 1,
   "metadata": {
    "id": "c-wwUVa7IMDm"
   },
   "outputs": [
    {
     "ename": "ModuleNotFoundError",
     "evalue": "No module named 'tensorflow.python'",
     "output_type": "error",
     "traceback": [
      "\u001b[1;31m---------------------------------------------------------------------------\u001b[0m",
      "\u001b[1;31mModuleNotFoundError\u001b[0m                       Traceback (most recent call last)",
      "Cell \u001b[1;32mIn[1], line 15\u001b[0m\n\u001b[0;32m     13\u001b[0m \u001b[38;5;28;01mfrom\u001b[39;00m \u001b[38;5;21;01mnltk\u001b[39;00m \u001b[38;5;28;01mimport\u001b[39;00m OrderedDict\n\u001b[0;32m     14\u001b[0m \u001b[38;5;28;01mimport\u001b[39;00m \u001b[38;5;21;01mgensim\u001b[39;00m\u001b[38;5;21;01m.\u001b[39;00m\u001b[38;5;21;01mdownloader\u001b[39;00m \u001b[38;5;28;01mas\u001b[39;00m \u001b[38;5;21;01mgloader\u001b[39;00m\n\u001b[1;32m---> 15\u001b[0m \u001b[38;5;28;01mimport\u001b[39;00m \u001b[38;5;21;01mtensorflow\u001b[39;00m \u001b[38;5;28;01mas\u001b[39;00m \u001b[38;5;21;01mtf\u001b[39;00m\n\u001b[0;32m     16\u001b[0m \u001b[38;5;28;01mfrom\u001b[39;00m \u001b[38;5;21;01mtensorflow\u001b[39;00m\u001b[38;5;21;01m.\u001b[39;00m\u001b[38;5;21;01mkeras\u001b[39;00m\u001b[38;5;21;01m.\u001b[39;00m\u001b[38;5;21;01mutils\u001b[39;00m \u001b[38;5;28;01mimport\u001b[39;00m Sequence\n\u001b[0;32m     17\u001b[0m \u001b[38;5;28;01mimport\u001b[39;00m \u001b[38;5;21;01mkeras\u001b[39;00m\n",
      "File \u001b[1;32m~\\AppData\\Local\\Packages\\PythonSoftwareFoundation.Python.3.11_qbz5n2kfra8p0\\LocalCache\\local-packages\\Python311\\site-packages\\tensorflow\\__init__.py:37\u001b[0m\n\u001b[0;32m     34\u001b[0m \u001b[38;5;28;01mimport\u001b[39;00m \u001b[38;5;21;01msite\u001b[39;00m \u001b[38;5;28;01mas\u001b[39;00m \u001b[38;5;21;01m_site\u001b[39;00m\n\u001b[0;32m     35\u001b[0m \u001b[38;5;28;01mimport\u001b[39;00m \u001b[38;5;21;01msys\u001b[39;00m \u001b[38;5;28;01mas\u001b[39;00m \u001b[38;5;21;01m_sys\u001b[39;00m\n\u001b[1;32m---> 37\u001b[0m \u001b[38;5;28;01mfrom\u001b[39;00m \u001b[38;5;21;01mtensorflow\u001b[39;00m\u001b[38;5;21;01m.\u001b[39;00m\u001b[38;5;21;01mpython\u001b[39;00m\u001b[38;5;21;01m.\u001b[39;00m\u001b[38;5;21;01mtools\u001b[39;00m \u001b[38;5;28;01mimport\u001b[39;00m module_util \u001b[38;5;28;01mas\u001b[39;00m _module_util\n\u001b[0;32m     38\u001b[0m \u001b[38;5;28;01mfrom\u001b[39;00m \u001b[38;5;21;01mtensorflow\u001b[39;00m\u001b[38;5;21;01m.\u001b[39;00m\u001b[38;5;21;01mpython\u001b[39;00m\u001b[38;5;21;01m.\u001b[39;00m\u001b[38;5;21;01mutil\u001b[39;00m\u001b[38;5;21;01m.\u001b[39;00m\u001b[38;5;21;01mlazy_loader\u001b[39;00m \u001b[38;5;28;01mimport\u001b[39;00m KerasLazyLoader \u001b[38;5;28;01mas\u001b[39;00m _KerasLazyLoader\n\u001b[0;32m     40\u001b[0m \u001b[38;5;66;03m# Make sure code inside the TensorFlow codebase can use tf2.enabled() at import.\u001b[39;00m\n",
      "\u001b[1;31mModuleNotFoundError\u001b[0m: No module named 'tensorflow.python'"
     ]
    }
   ],
   "source": [
    "import pandas as pd\n",
    "import numpy as np\n",
    "import re\n",
    "import string\n",
    "import nltk\n",
    "from tqdm import tqdm\n",
    "import gensim\n",
    "from nltk.stem import WordNetLemmatizer\n",
    "from nltk import pos_tag\n",
    "from nltk.tokenize import word_tokenize\n",
    "from nltk.corpus import wordnet, stopwords\n",
    "from functools import reduce\n",
    "from nltk import OrderedDict\n",
    "import gensim.downloader as gloader\n",
    "import tensorflow as tf\n",
    "from tensorflow.keras.utils import Sequence\n",
    "import keras\n",
    "from keras import Input\n",
    "from keras.layers import Bidirectional, LSTM, Dense, Embedding"
   ]
  },
  {
   "cell_type": "code",
   "execution_count": null,
   "metadata": {
    "id": "EgWyKKLe--FT"
   },
   "outputs": [],
   "source": [
    "seed = 42\n",
    "np.random.seed(seed)\n",
    "tf.keras.utils.set_random_seed(seed)"
   ]
  },
  {
   "cell_type": "markdown",
   "metadata": {
    "id": "2iu1X4I98M8B"
   },
   "source": [
    "# [Task 1 - 1.0 points] Corpus\n",
    "\n",
    "We have preparared a small version of EXIST dataset in our dedicated [Github repository](https://github.com/lt-nlp-lab-unibo/nlp-course-material/tree/main/2024-2025/Assignment%201/data).\n",
    "\n",
    "Check the `A1/data` folder. It contains 3 `.json` files representing `training`, `validation` and `test` sets.\n",
    "\n",
    "The three sets are slightly unbalanced, with a bias toward the `Non-sexist` class.\n",
    "\n"
   ]
  },
  {
   "cell_type": "markdown",
   "metadata": {
    "id": "AASoMV9XN5l6"
   },
   "source": [
    "### Dataset Description\n",
    "- The dataset contains tweets in both English and Spanish.\n",
    "- There are labels for multiple tasks, but we are focusing on **Task 1**.\n",
    "- For Task 1, soft labels are assigned by six annotators.\n",
    "- The labels for Task 1 represent whether the tweet is sexist (\"YES\") or not (\"NO\").\n",
    "\n",
    "\n",
    "\n",
    "\n"
   ]
  },
  {
   "cell_type": "markdown",
   "metadata": {
    "id": "OFjwB_lCOQKj"
   },
   "source": [
    "\n",
    "### Example\n",
    "\n",
    "\n",
    "    \"203260\": {\n",
    "        \"id_EXIST\": \"203260\",\n",
    "        \"lang\": \"en\",\n",
    "        \"tweet\": \"ik when mandy says “you look like a whore” i look cute as FUCK\",\n",
    "        \"number_annotators\": 6,\n",
    "        \"annotators\": [\"Annotator_473\", \"Annotator_474\", \"Annotator_475\", \"Annotator_476\", \"Annotator_477\", \"Annotator_27\"],\n",
    "        \"gender_annotators\": [\"F\", \"F\", \"M\", \"M\", \"M\", \"F\"],\n",
    "        \"age_annotators\": [\"18-22\", \"23-45\", \"18-22\", \"23-45\", \"46+\", \"46+\"],\n",
    "        \"labels_task1\": [\"YES\", \"YES\", \"YES\", \"NO\", \"YES\", \"YES\"],\n",
    "        \"labels_task2\": [\"DIRECT\", \"DIRECT\", \"REPORTED\", \"-\", \"JUDGEMENTAL\", \"REPORTED\"],\n",
    "        \"labels_task3\": [\n",
    "          [\"STEREOTYPING-DOMINANCE\"],\n",
    "          [\"OBJECTIFICATION\"],\n",
    "          [\"SEXUAL-VIOLENCE\"],\n",
    "          [\"-\"],\n",
    "          [\"STEREOTYPING-DOMINANCE\", \"OBJECTIFICATION\"],\n",
    "          [\"OBJECTIFICATION\"]\n",
    "        ],\n",
    "        \"split\": \"TRAIN_EN\"\n",
    "      }\n",
    "    }"
   ]
  },
  {
   "cell_type": "markdown",
   "metadata": {
    "id": "BJ45bvuOOJ7I"
   },
   "source": [
    "### Instructions\n",
    "1. **Download** the `A1/data` folder.\n",
    "2. **Load** the three JSON files and encode them as pandas dataframes.\n",
    "3. **Generate hard labels** for Task 1 using majority voting and store them in a new dataframe column called `hard_label_task1`. Items without a clear majority will be removed from the dataset.\n",
    "4. **Filter the DataFrame** to keep only rows where the `lang` column is `'en'`.\n",
    "5. **Remove unwanted columns**: Keep only `id_EXIST`, `lang`, `tweet`, and `hard_label_task1`.\n",
    "6. **Encode the `hard_label_task1` column**: Use 1 to represent \"YES\" and 0 to represent \"NO\"."
   ]
  },
  {
   "cell_type": "markdown",
   "metadata": {
    "id": "6hFVl4cFIMDt"
   },
   "source": [
    "---"
   ]
  },
  {
   "cell_type": "markdown",
   "metadata": {
    "id": "X-2E-GAyIMDu"
   },
   "source": [
    "1. **Download** the `A1/data` folder.\n",
    "2. **Load** the three JSON files and encode them as pandas dataframes."
   ]
  },
  {
   "cell_type": "code",
   "execution_count": 2,
   "metadata": {
    "id": "C2bPnLnfIMDv"
   },
   "outputs": [],
   "source": [
    "df_train = pd.read_json(\"./data/training.json\").transpose().set_index(\"id_EXIST\")\n",
    "df_test = pd.read_json(\"./data/test.json\").transpose().set_index(\"id_EXIST\")\n",
    "df_val = pd.read_json(\"./data/validation.json\").transpose().set_index(\"id_EXIST\")"
   ]
  },
  {
   "cell_type": "code",
   "execution_count": 3,
   "metadata": {
    "colab": {
     "base_uri": "https://localhost:8080/",
     "height": 463
    },
    "id": "7exPCi34IMDw",
    "outputId": "c72938ae-cc12-43d1-da84-b1c64fa310c0"
   },
   "outputs": [
    {
     "data": {
      "text/html": [
       "<div>\n",
       "<style scoped>\n",
       "    .dataframe tbody tr th:only-of-type {\n",
       "        vertical-align: middle;\n",
       "    }\n",
       "\n",
       "    .dataframe tbody tr th {\n",
       "        vertical-align: top;\n",
       "    }\n",
       "\n",
       "    .dataframe thead th {\n",
       "        text-align: right;\n",
       "    }\n",
       "</style>\n",
       "<table border=\"1\" class=\"dataframe\">\n",
       "  <thead>\n",
       "    <tr style=\"text-align: right;\">\n",
       "      <th></th>\n",
       "      <th>lang</th>\n",
       "      <th>tweet</th>\n",
       "      <th>number_annotators</th>\n",
       "      <th>annotators</th>\n",
       "      <th>gender_annotators</th>\n",
       "      <th>age_annotators</th>\n",
       "      <th>labels_task1</th>\n",
       "      <th>labels_task2</th>\n",
       "      <th>labels_task3</th>\n",
       "      <th>split</th>\n",
       "    </tr>\n",
       "    <tr>\n",
       "      <th>id_EXIST</th>\n",
       "      <th></th>\n",
       "      <th></th>\n",
       "      <th></th>\n",
       "      <th></th>\n",
       "      <th></th>\n",
       "      <th></th>\n",
       "      <th></th>\n",
       "      <th></th>\n",
       "      <th></th>\n",
       "      <th></th>\n",
       "    </tr>\n",
       "  </thead>\n",
       "  <tbody>\n",
       "    <tr>\n",
       "      <th>100001</th>\n",
       "      <td>es</td>\n",
       "      <td>@TheChiflis Ignora al otro, es un capullo.El p...</td>\n",
       "      <td>6</td>\n",
       "      <td>[Annotator_1, Annotator_2, Annotator_3, Annota...</td>\n",
       "      <td>[F, F, F, M, M, M]</td>\n",
       "      <td>[18-22, 23-45, 46+, 46+, 23-45, 18-22]</td>\n",
       "      <td>[YES, YES, NO, YES, YES, YES]</td>\n",
       "      <td>[REPORTED, JUDGEMENTAL, -, REPORTED, JUDGEMENT...</td>\n",
       "      <td>[[OBJECTIFICATION], [OBJECTIFICATION, SEXUAL-V...</td>\n",
       "      <td>TRAIN_ES</td>\n",
       "    </tr>\n",
       "    <tr>\n",
       "      <th>100002</th>\n",
       "      <td>es</td>\n",
       "      <td>@ultimonomada_ Si comicsgate se parece en algo...</td>\n",
       "      <td>6</td>\n",
       "      <td>[Annotator_7, Annotator_8, Annotator_9, Annota...</td>\n",
       "      <td>[F, F, F, M, M, M]</td>\n",
       "      <td>[18-22, 23-45, 46+, 46+, 23-45, 18-22]</td>\n",
       "      <td>[NO, NO, NO, NO, YES, NO]</td>\n",
       "      <td>[-, -, -, -, DIRECT, -]</td>\n",
       "      <td>[[-], [-], [-], [-], [OBJECTIFICATION], [-]]</td>\n",
       "      <td>TRAIN_ES</td>\n",
       "    </tr>\n",
       "    <tr>\n",
       "      <th>100003</th>\n",
       "      <td>es</td>\n",
       "      <td>@Steven2897 Lee sobre Gamergate, y como eso ha...</td>\n",
       "      <td>6</td>\n",
       "      <td>[Annotator_7, Annotator_8, Annotator_9, Annota...</td>\n",
       "      <td>[F, F, F, M, M, M]</td>\n",
       "      <td>[18-22, 23-45, 46+, 46+, 23-45, 18-22]</td>\n",
       "      <td>[NO, NO, NO, NO, NO, NO]</td>\n",
       "      <td>[-, -, -, -, -, -]</td>\n",
       "      <td>[[-], [-], [-], [-], [-], [-]]</td>\n",
       "      <td>TRAIN_ES</td>\n",
       "    </tr>\n",
       "    <tr>\n",
       "      <th>100004</th>\n",
       "      <td>es</td>\n",
       "      <td>@Lunariita7 Un retraso social bastante lamenta...</td>\n",
       "      <td>6</td>\n",
       "      <td>[Annotator_13, Annotator_14, Annotator_15, Ann...</td>\n",
       "      <td>[F, F, F, M, M, M]</td>\n",
       "      <td>[18-22, 23-45, 46+, 46+, 23-45, 18-22]</td>\n",
       "      <td>[NO, NO, YES, NO, YES, YES]</td>\n",
       "      <td>[-, -, DIRECT, -, REPORTED, REPORTED]</td>\n",
       "      <td>[[-], [-], [IDEOLOGICAL-INEQUALITY], [-], [IDE...</td>\n",
       "      <td>TRAIN_ES</td>\n",
       "    </tr>\n",
       "    <tr>\n",
       "      <th>100005</th>\n",
       "      <td>es</td>\n",
       "      <td>@novadragon21 @icep4ck @TvDannyZ Entonces como...</td>\n",
       "      <td>6</td>\n",
       "      <td>[Annotator_19, Annotator_20, Annotator_21, Ann...</td>\n",
       "      <td>[F, F, F, M, M, M]</td>\n",
       "      <td>[18-22, 23-45, 46+, 46+, 23-45, 18-22]</td>\n",
       "      <td>[YES, NO, YES, NO, YES, YES]</td>\n",
       "      <td>[REPORTED, -, JUDGEMENTAL, -, JUDGEMENTAL, DIR...</td>\n",
       "      <td>[[STEREOTYPING-DOMINANCE, OBJECTIFICATION], [-...</td>\n",
       "      <td>TRAIN_ES</td>\n",
       "    </tr>\n",
       "  </tbody>\n",
       "</table>\n",
       "</div>"
      ],
      "text/plain": [
       "         lang                                              tweet  \\\n",
       "id_EXIST                                                           \n",
       "100001     es  @TheChiflis Ignora al otro, es un capullo.El p...   \n",
       "100002     es  @ultimonomada_ Si comicsgate se parece en algo...   \n",
       "100003     es  @Steven2897 Lee sobre Gamergate, y como eso ha...   \n",
       "100004     es  @Lunariita7 Un retraso social bastante lamenta...   \n",
       "100005     es  @novadragon21 @icep4ck @TvDannyZ Entonces como...   \n",
       "\n",
       "         number_annotators                                         annotators  \\\n",
       "id_EXIST                                                                        \n",
       "100001                   6  [Annotator_1, Annotator_2, Annotator_3, Annota...   \n",
       "100002                   6  [Annotator_7, Annotator_8, Annotator_9, Annota...   \n",
       "100003                   6  [Annotator_7, Annotator_8, Annotator_9, Annota...   \n",
       "100004                   6  [Annotator_13, Annotator_14, Annotator_15, Ann...   \n",
       "100005                   6  [Annotator_19, Annotator_20, Annotator_21, Ann...   \n",
       "\n",
       "           gender_annotators                          age_annotators  \\\n",
       "id_EXIST                                                               \n",
       "100001    [F, F, F, M, M, M]  [18-22, 23-45, 46+, 46+, 23-45, 18-22]   \n",
       "100002    [F, F, F, M, M, M]  [18-22, 23-45, 46+, 46+, 23-45, 18-22]   \n",
       "100003    [F, F, F, M, M, M]  [18-22, 23-45, 46+, 46+, 23-45, 18-22]   \n",
       "100004    [F, F, F, M, M, M]  [18-22, 23-45, 46+, 46+, 23-45, 18-22]   \n",
       "100005    [F, F, F, M, M, M]  [18-22, 23-45, 46+, 46+, 23-45, 18-22]   \n",
       "\n",
       "                           labels_task1  \\\n",
       "id_EXIST                                  \n",
       "100001    [YES, YES, NO, YES, YES, YES]   \n",
       "100002        [NO, NO, NO, NO, YES, NO]   \n",
       "100003         [NO, NO, NO, NO, NO, NO]   \n",
       "100004      [NO, NO, YES, NO, YES, YES]   \n",
       "100005     [YES, NO, YES, NO, YES, YES]   \n",
       "\n",
       "                                               labels_task2  \\\n",
       "id_EXIST                                                      \n",
       "100001    [REPORTED, JUDGEMENTAL, -, REPORTED, JUDGEMENT...   \n",
       "100002                              [-, -, -, -, DIRECT, -]   \n",
       "100003                                   [-, -, -, -, -, -]   \n",
       "100004                [-, -, DIRECT, -, REPORTED, REPORTED]   \n",
       "100005    [REPORTED, -, JUDGEMENTAL, -, JUDGEMENTAL, DIR...   \n",
       "\n",
       "                                               labels_task3     split  \n",
       "id_EXIST                                                               \n",
       "100001    [[OBJECTIFICATION], [OBJECTIFICATION, SEXUAL-V...  TRAIN_ES  \n",
       "100002         [[-], [-], [-], [-], [OBJECTIFICATION], [-]]  TRAIN_ES  \n",
       "100003                       [[-], [-], [-], [-], [-], [-]]  TRAIN_ES  \n",
       "100004    [[-], [-], [IDEOLOGICAL-INEQUALITY], [-], [IDE...  TRAIN_ES  \n",
       "100005    [[STEREOTYPING-DOMINANCE, OBJECTIFICATION], [-...  TRAIN_ES  "
      ]
     },
     "execution_count": 3,
     "metadata": {},
     "output_type": "execute_result"
    }
   ],
   "source": [
    "df_train.head()"
   ]
  },
  {
   "cell_type": "code",
   "execution_count": 4,
   "metadata": {
    "colab": {
     "base_uri": "https://localhost:8080/",
     "height": 411
    },
    "id": "4NZT4OkHIMDy",
    "outputId": "3464ffd6-8963-4bf4-e56e-3bddeeb6b4fb"
   },
   "outputs": [
    {
     "data": {
      "text/html": [
       "<div>\n",
       "<style scoped>\n",
       "    .dataframe tbody tr th:only-of-type {\n",
       "        vertical-align: middle;\n",
       "    }\n",
       "\n",
       "    .dataframe tbody tr th {\n",
       "        vertical-align: top;\n",
       "    }\n",
       "\n",
       "    .dataframe thead th {\n",
       "        text-align: right;\n",
       "    }\n",
       "</style>\n",
       "<table border=\"1\" class=\"dataframe\">\n",
       "  <thead>\n",
       "    <tr style=\"text-align: right;\">\n",
       "      <th></th>\n",
       "      <th>lang</th>\n",
       "      <th>tweet</th>\n",
       "      <th>number_annotators</th>\n",
       "      <th>annotators</th>\n",
       "      <th>gender_annotators</th>\n",
       "      <th>age_annotators</th>\n",
       "      <th>labels_task1</th>\n",
       "      <th>labels_task2</th>\n",
       "      <th>labels_task3</th>\n",
       "      <th>split</th>\n",
       "    </tr>\n",
       "    <tr>\n",
       "      <th>id_EXIST</th>\n",
       "      <th></th>\n",
       "      <th></th>\n",
       "      <th></th>\n",
       "      <th></th>\n",
       "      <th></th>\n",
       "      <th></th>\n",
       "      <th></th>\n",
       "      <th></th>\n",
       "      <th></th>\n",
       "      <th></th>\n",
       "    </tr>\n",
       "  </thead>\n",
       "  <tbody>\n",
       "    <tr>\n",
       "      <th>400178</th>\n",
       "      <td>en</td>\n",
       "      <td>1st day at the pool on a beautiful Sunday in N...</td>\n",
       "      <td>6</td>\n",
       "      <td>[Annotator_764, Annotator_765, Annotator_766, ...</td>\n",
       "      <td>[F, F, F, M, M, M]</td>\n",
       "      <td>[18-22, 23-45, 46+, 18-22, 23-45, 46+]</td>\n",
       "      <td>[NO, NO, NO, NO, NO, NO]</td>\n",
       "      <td>[-, -, -, -, -, -]</td>\n",
       "      <td>[[-], [-], [-], [-], [-], [-]]</td>\n",
       "      <td>DEV_EN</td>\n",
       "    </tr>\n",
       "    <tr>\n",
       "      <th>400179</th>\n",
       "      <td>en</td>\n",
       "      <td>“I like your outfit too except when i dress up...</td>\n",
       "      <td>6</td>\n",
       "      <td>[Annotator_805, Annotator_426, Annotator_806, ...</td>\n",
       "      <td>[F, F, F, M, M, M]</td>\n",
       "      <td>[18-22, 23-45, 46+, 18-22, 23-45, 46+]</td>\n",
       "      <td>[YES, YES, YES, YES, YES, NO]</td>\n",
       "      <td>[JUDGEMENTAL, DIRECT, REPORTED, DIRECT, REPORT...</td>\n",
       "      <td>[[OBJECTIFICATION], [OBJECTIFICATION, MISOGYNY...</td>\n",
       "      <td>DEV_EN</td>\n",
       "    </tr>\n",
       "    <tr>\n",
       "      <th>400180</th>\n",
       "      <td>en</td>\n",
       "      <td>@KNasFanFic 🥺💖 same, though!!! the angst just ...</td>\n",
       "      <td>6</td>\n",
       "      <td>[Annotator_795, Annotator_796, Annotator_797, ...</td>\n",
       "      <td>[F, F, F, M, M, M]</td>\n",
       "      <td>[18-22, 23-45, 46+, 18-22, 23-45, 46+]</td>\n",
       "      <td>[NO, NO, NO, NO, NO, NO]</td>\n",
       "      <td>[-, -, -, -, -, -]</td>\n",
       "      <td>[[-], [-], [-], [-], [-], [-]]</td>\n",
       "      <td>DEV_EN</td>\n",
       "    </tr>\n",
       "    <tr>\n",
       "      <th>400181</th>\n",
       "      <td>en</td>\n",
       "      <td>@themaxburns @GOP Fuck that cunt. Tried to vot...</td>\n",
       "      <td>6</td>\n",
       "      <td>[Annotator_795, Annotator_796, Annotator_797, ...</td>\n",
       "      <td>[F, F, F, M, M, M]</td>\n",
       "      <td>[18-22, 23-45, 46+, 18-22, 23-45, 46+]</td>\n",
       "      <td>[NO, YES, YES, YES, YES, YES]</td>\n",
       "      <td>[-, DIRECT, JUDGEMENTAL, DIRECT, DIRECT, DIRECT]</td>\n",
       "      <td>[[-], [IDEOLOGICAL-INEQUALITY, MISOGYNY-NON-SE...</td>\n",
       "      <td>DEV_EN</td>\n",
       "    </tr>\n",
       "    <tr>\n",
       "      <th>400182</th>\n",
       "      <td>en</td>\n",
       "      <td>@ultshunnie u gotta say some shit like “i’ll f...</td>\n",
       "      <td>6</td>\n",
       "      <td>[Annotator_770, Annotator_771, Annotator_772, ...</td>\n",
       "      <td>[F, F, F, M, M, M]</td>\n",
       "      <td>[18-22, 23-45, 46+, 18-22, 23-45, 46+]</td>\n",
       "      <td>[YES, YES, YES, YES, YES, YES]</td>\n",
       "      <td>[DIRECT, REPORTED, DIRECT, DIRECT, JUDGEMENTAL...</td>\n",
       "      <td>[[OBJECTIFICATION, SEXUAL-VIOLENCE], [SEXUAL-V...</td>\n",
       "      <td>DEV_EN</td>\n",
       "    </tr>\n",
       "  </tbody>\n",
       "</table>\n",
       "</div>"
      ],
      "text/plain": [
       "         lang                                              tweet  \\\n",
       "id_EXIST                                                           \n",
       "400178     en  1st day at the pool on a beautiful Sunday in N...   \n",
       "400179     en  “I like your outfit too except when i dress up...   \n",
       "400180     en  @KNasFanFic 🥺💖 same, though!!! the angst just ...   \n",
       "400181     en  @themaxburns @GOP Fuck that cunt. Tried to vot...   \n",
       "400182     en  @ultshunnie u gotta say some shit like “i’ll f...   \n",
       "\n",
       "         number_annotators                                         annotators  \\\n",
       "id_EXIST                                                                        \n",
       "400178                   6  [Annotator_764, Annotator_765, Annotator_766, ...   \n",
       "400179                   6  [Annotator_805, Annotator_426, Annotator_806, ...   \n",
       "400180                   6  [Annotator_795, Annotator_796, Annotator_797, ...   \n",
       "400181                   6  [Annotator_795, Annotator_796, Annotator_797, ...   \n",
       "400182                   6  [Annotator_770, Annotator_771, Annotator_772, ...   \n",
       "\n",
       "           gender_annotators                          age_annotators  \\\n",
       "id_EXIST                                                               \n",
       "400178    [F, F, F, M, M, M]  [18-22, 23-45, 46+, 18-22, 23-45, 46+]   \n",
       "400179    [F, F, F, M, M, M]  [18-22, 23-45, 46+, 18-22, 23-45, 46+]   \n",
       "400180    [F, F, F, M, M, M]  [18-22, 23-45, 46+, 18-22, 23-45, 46+]   \n",
       "400181    [F, F, F, M, M, M]  [18-22, 23-45, 46+, 18-22, 23-45, 46+]   \n",
       "400182    [F, F, F, M, M, M]  [18-22, 23-45, 46+, 18-22, 23-45, 46+]   \n",
       "\n",
       "                            labels_task1  \\\n",
       "id_EXIST                                   \n",
       "400178          [NO, NO, NO, NO, NO, NO]   \n",
       "400179     [YES, YES, YES, YES, YES, NO]   \n",
       "400180          [NO, NO, NO, NO, NO, NO]   \n",
       "400181     [NO, YES, YES, YES, YES, YES]   \n",
       "400182    [YES, YES, YES, YES, YES, YES]   \n",
       "\n",
       "                                               labels_task2  \\\n",
       "id_EXIST                                                      \n",
       "400178                                   [-, -, -, -, -, -]   \n",
       "400179    [JUDGEMENTAL, DIRECT, REPORTED, DIRECT, REPORT...   \n",
       "400180                                   [-, -, -, -, -, -]   \n",
       "400181     [-, DIRECT, JUDGEMENTAL, DIRECT, DIRECT, DIRECT]   \n",
       "400182    [DIRECT, REPORTED, DIRECT, DIRECT, JUDGEMENTAL...   \n",
       "\n",
       "                                               labels_task3   split  \n",
       "id_EXIST                                                             \n",
       "400178                       [[-], [-], [-], [-], [-], [-]]  DEV_EN  \n",
       "400179    [[OBJECTIFICATION], [OBJECTIFICATION, MISOGYNY...  DEV_EN  \n",
       "400180                       [[-], [-], [-], [-], [-], [-]]  DEV_EN  \n",
       "400181    [[-], [IDEOLOGICAL-INEQUALITY, MISOGYNY-NON-SE...  DEV_EN  \n",
       "400182    [[OBJECTIFICATION, SEXUAL-VIOLENCE], [SEXUAL-V...  DEV_EN  "
      ]
     },
     "execution_count": 4,
     "metadata": {},
     "output_type": "execute_result"
    }
   ],
   "source": [
    "df_test.head()"
   ]
  },
  {
   "cell_type": "code",
   "execution_count": 5,
   "metadata": {
    "colab": {
     "base_uri": "https://localhost:8080/",
     "height": 428
    },
    "id": "D4-46jNXIMDz",
    "outputId": "16eabcee-5b8e-4d88-c041-0e5913ff0f06"
   },
   "outputs": [
    {
     "data": {
      "text/html": [
       "<div>\n",
       "<style scoped>\n",
       "    .dataframe tbody tr th:only-of-type {\n",
       "        vertical-align: middle;\n",
       "    }\n",
       "\n",
       "    .dataframe tbody tr th {\n",
       "        vertical-align: top;\n",
       "    }\n",
       "\n",
       "    .dataframe thead th {\n",
       "        text-align: right;\n",
       "    }\n",
       "</style>\n",
       "<table border=\"1\" class=\"dataframe\">\n",
       "  <thead>\n",
       "    <tr style=\"text-align: right;\">\n",
       "      <th></th>\n",
       "      <th>lang</th>\n",
       "      <th>tweet</th>\n",
       "      <th>number_annotators</th>\n",
       "      <th>annotators</th>\n",
       "      <th>gender_annotators</th>\n",
       "      <th>age_annotators</th>\n",
       "      <th>labels_task1</th>\n",
       "      <th>labels_task2</th>\n",
       "      <th>labels_task3</th>\n",
       "      <th>split</th>\n",
       "    </tr>\n",
       "    <tr>\n",
       "      <th>id_EXIST</th>\n",
       "      <th></th>\n",
       "      <th></th>\n",
       "      <th></th>\n",
       "      <th></th>\n",
       "      <th></th>\n",
       "      <th></th>\n",
       "      <th></th>\n",
       "      <th></th>\n",
       "      <th></th>\n",
       "      <th></th>\n",
       "    </tr>\n",
       "  </thead>\n",
       "  <tbody>\n",
       "    <tr>\n",
       "      <th>300001</th>\n",
       "      <td>es</td>\n",
       "      <td>@Fichinescu La comunidad gamer es un antro de ...</td>\n",
       "      <td>6</td>\n",
       "      <td>[Annotator_726, Annotator_727, Annotator_357, ...</td>\n",
       "      <td>[F, F, F, M, M, M]</td>\n",
       "      <td>[18-22, 23-45, 46+, 18-22, 23-45, 46+]</td>\n",
       "      <td>[NO, YES, YES, NO, YES, NO]</td>\n",
       "      <td>[-, JUDGEMENTAL, JUDGEMENTAL, -, REPORTED, -]</td>\n",
       "      <td>[[-], [MISOGYNY-NON-SEXUAL-VIOLENCE], [MISOGYN...</td>\n",
       "      <td>DEV_ES</td>\n",
       "    </tr>\n",
       "    <tr>\n",
       "      <th>300002</th>\n",
       "      <td>es</td>\n",
       "      <td>@anacaotica88 @MordorLivin No me acuerdo de lo...</td>\n",
       "      <td>6</td>\n",
       "      <td>[Annotator_731, Annotator_732, Annotator_315, ...</td>\n",
       "      <td>[F, F, F, M, M, M]</td>\n",
       "      <td>[18-22, 23-45, 46+, 18-22, 23-45, 46+]</td>\n",
       "      <td>[YES, YES, NO, YES, YES, YES]</td>\n",
       "      <td>[JUDGEMENTAL, REPORTED, -, JUDGEMENTAL, JUDGEM...</td>\n",
       "      <td>[[IDEOLOGICAL-INEQUALITY, STEREOTYPING-DOMINAN...</td>\n",
       "      <td>DEV_ES</td>\n",
       "    </tr>\n",
       "    <tr>\n",
       "      <th>300003</th>\n",
       "      <td>es</td>\n",
       "      <td>@cosmicJunkBot lo digo cada pocos dias y lo re...</td>\n",
       "      <td>6</td>\n",
       "      <td>[Annotator_735, Annotator_736, Annotator_345, ...</td>\n",
       "      <td>[F, F, F, M, M, M]</td>\n",
       "      <td>[18-22, 23-45, 46+, 18-22, 23-45, 46+]</td>\n",
       "      <td>[NO, NO, NO, NO, NO, NO]</td>\n",
       "      <td>[-, -, -, -, -, -]</td>\n",
       "      <td>[[-], [-], [-], [-], [-], [-]]</td>\n",
       "      <td>DEV_ES</td>\n",
       "    </tr>\n",
       "    <tr>\n",
       "      <th>300004</th>\n",
       "      <td>es</td>\n",
       "      <td>Also mientras les decia eso la señalaba y deci...</td>\n",
       "      <td>6</td>\n",
       "      <td>[Annotator_259, Annotator_739, Annotator_291, ...</td>\n",
       "      <td>[F, F, F, M, M, M]</td>\n",
       "      <td>[18-22, 23-45, 46+, 18-22, 23-45, 46+]</td>\n",
       "      <td>[NO, YES, YES, YES, YES, YES]</td>\n",
       "      <td>[-, REPORTED, REPORTED, REPORTED, JUDGEMENTAL,...</td>\n",
       "      <td>[[-], [SEXUAL-VIOLENCE], [SEXUAL-VIOLENCE], [S...</td>\n",
       "      <td>DEV_ES</td>\n",
       "    </tr>\n",
       "    <tr>\n",
       "      <th>300005</th>\n",
       "      <td>es</td>\n",
       "      <td>And all people killed,  attacked, harassed by ...</td>\n",
       "      <td>6</td>\n",
       "      <td>[Annotator_731, Annotator_732, Annotator_315, ...</td>\n",
       "      <td>[F, F, F, M, M, M]</td>\n",
       "      <td>[18-22, 23-45, 46+, 18-22, 23-45, 46+]</td>\n",
       "      <td>[NO, YES, NO, NO, NO, NO]</td>\n",
       "      <td>[-, DIRECT, -, -, -, -]</td>\n",
       "      <td>[[-], [STEREOTYPING-DOMINANCE], [-], [-], [-],...</td>\n",
       "      <td>DEV_ES</td>\n",
       "    </tr>\n",
       "  </tbody>\n",
       "</table>\n",
       "</div>"
      ],
      "text/plain": [
       "         lang                                              tweet  \\\n",
       "id_EXIST                                                           \n",
       "300001     es  @Fichinescu La comunidad gamer es un antro de ...   \n",
       "300002     es  @anacaotica88 @MordorLivin No me acuerdo de lo...   \n",
       "300003     es  @cosmicJunkBot lo digo cada pocos dias y lo re...   \n",
       "300004     es  Also mientras les decia eso la señalaba y deci...   \n",
       "300005     es  And all people killed,  attacked, harassed by ...   \n",
       "\n",
       "         number_annotators                                         annotators  \\\n",
       "id_EXIST                                                                        \n",
       "300001                   6  [Annotator_726, Annotator_727, Annotator_357, ...   \n",
       "300002                   6  [Annotator_731, Annotator_732, Annotator_315, ...   \n",
       "300003                   6  [Annotator_735, Annotator_736, Annotator_345, ...   \n",
       "300004                   6  [Annotator_259, Annotator_739, Annotator_291, ...   \n",
       "300005                   6  [Annotator_731, Annotator_732, Annotator_315, ...   \n",
       "\n",
       "           gender_annotators                          age_annotators  \\\n",
       "id_EXIST                                                               \n",
       "300001    [F, F, F, M, M, M]  [18-22, 23-45, 46+, 18-22, 23-45, 46+]   \n",
       "300002    [F, F, F, M, M, M]  [18-22, 23-45, 46+, 18-22, 23-45, 46+]   \n",
       "300003    [F, F, F, M, M, M]  [18-22, 23-45, 46+, 18-22, 23-45, 46+]   \n",
       "300004    [F, F, F, M, M, M]  [18-22, 23-45, 46+, 18-22, 23-45, 46+]   \n",
       "300005    [F, F, F, M, M, M]  [18-22, 23-45, 46+, 18-22, 23-45, 46+]   \n",
       "\n",
       "                           labels_task1  \\\n",
       "id_EXIST                                  \n",
       "300001      [NO, YES, YES, NO, YES, NO]   \n",
       "300002    [YES, YES, NO, YES, YES, YES]   \n",
       "300003         [NO, NO, NO, NO, NO, NO]   \n",
       "300004    [NO, YES, YES, YES, YES, YES]   \n",
       "300005        [NO, YES, NO, NO, NO, NO]   \n",
       "\n",
       "                                               labels_task2  \\\n",
       "id_EXIST                                                      \n",
       "300001        [-, JUDGEMENTAL, JUDGEMENTAL, -, REPORTED, -]   \n",
       "300002    [JUDGEMENTAL, REPORTED, -, JUDGEMENTAL, JUDGEM...   \n",
       "300003                                   [-, -, -, -, -, -]   \n",
       "300004    [-, REPORTED, REPORTED, REPORTED, JUDGEMENTAL,...   \n",
       "300005                              [-, DIRECT, -, -, -, -]   \n",
       "\n",
       "                                               labels_task3   split  \n",
       "id_EXIST                                                             \n",
       "300001    [[-], [MISOGYNY-NON-SEXUAL-VIOLENCE], [MISOGYN...  DEV_ES  \n",
       "300002    [[IDEOLOGICAL-INEQUALITY, STEREOTYPING-DOMINAN...  DEV_ES  \n",
       "300003                       [[-], [-], [-], [-], [-], [-]]  DEV_ES  \n",
       "300004    [[-], [SEXUAL-VIOLENCE], [SEXUAL-VIOLENCE], [S...  DEV_ES  \n",
       "300005    [[-], [STEREOTYPING-DOMINANCE], [-], [-], [-],...  DEV_ES  "
      ]
     },
     "execution_count": 5,
     "metadata": {},
     "output_type": "execute_result"
    }
   ],
   "source": [
    "df_val.head()"
   ]
  },
  {
   "cell_type": "code",
   "execution_count": 6,
   "metadata": {
    "colab": {
     "base_uri": "https://localhost:8080/"
    },
    "id": "g4XYc8xJIMDz",
    "outputId": "ec666261-9a51-49f9-cd25-66ca2509b13c"
   },
   "outputs": [
    {
     "name": "stdout",
     "output_type": "stream",
     "text": [
      "- Training dataset shape: (6920, 10)\n",
      "- Test dataset shape: (312, 10)\n",
      "- Validation dataset shape: (726, 10)\n"
     ]
    }
   ],
   "source": [
    "print(\"- Training dataset shape:\", df_train.shape)\n",
    "print(\"- Test dataset shape:\", df_test.shape)\n",
    "print(\"- Validation dataset shape:\", df_val.shape)"
   ]
  },
  {
   "cell_type": "markdown",
   "metadata": {
    "id": "b--7FrOoIMD1"
   },
   "source": [
    "3. **Generate hard labels** for Task 1 using majority voting and store them in a new dataframe column called `hard_label_task1`. Items without a clear majority will be removed from the dataset."
   ]
  },
  {
   "cell_type": "code",
   "execution_count": 11,
   "metadata": {
    "id": "8lw8oBkuIMD1"
   },
   "outputs": [],
   "source": [
    "df_train_T1 = df_train.copy()\n",
    "df_test_T1 = df_test.copy()\n",
    "df_val_T1 = df_val.copy()\n",
    "\n",
    "df_train_T1['hard_labels_task1'] = df_train_T1['labels_task1'].apply(\n",
    "    lambda x: 'YES' if x.count('YES') > x.count('NO') else ('NO' if x.count('NO') > x.count('YES') else np.NAN)\n",
    ")\n",
    "df_test_T1['hard_labels_task1'] = df_test_T1['labels_task1'].apply(\n",
    "    lambda x: 'YES' if x.count('YES') > x.count('NO') else ('NO' if x.count('NO') > x.count('YES') else np.NAN)\n",
    ")\n",
    "df_val_T1['hard_labels_task1'] = df_val_T1['labels_task1'].apply(\n",
    "    lambda x: 'YES' if x.count('YES') > x.count('NO') else ('NO' if x.count('NO') > x.count('YES') else np.NAN)\n",
    ")\n",
    "\n",
    "df_train_T1.dropna(inplace=True)\n",
    "df_test_T1.dropna(inplace=True)\n",
    "df_val_T1.dropna(inplace=True)"
   ]
  },
  {
   "cell_type": "markdown",
   "metadata": {
    "id": "yABrJFiBIMD2"
   },
   "source": [
    "4. **Filter the DataFrame** to keep only rows where the `lang` column is `'en'`."
   ]
  },
  {
   "cell_type": "code",
   "execution_count": 12,
   "metadata": {
    "id": "MuwMzWfoIMD3"
   },
   "outputs": [],
   "source": [
    "df_train_T1 = df_train_T1[df_train_T1[\"lang\"] == \"en\"]\n",
    "df_test_T1 = df_test_T1[df_test_T1[\"lang\"] == \"en\"]\n",
    "df_val_T1 = df_val_T1[df_val_T1[\"lang\"] == \"en\"]"
   ]
  },
  {
   "cell_type": "markdown",
   "metadata": {
    "id": "-2xc3PL5IMD3"
   },
   "source": [
    "5. **Remove unwanted columns**: Keep only `id_EXIST`, `lang`, `tweet`, and `hard_label_task1`."
   ]
  },
  {
   "cell_type": "code",
   "execution_count": 13,
   "metadata": {
    "id": "WjV5OjuwIMD3"
   },
   "outputs": [],
   "source": [
    "df_train_T1 = df_train_T1.drop(\n",
    "    [\"number_annotators\", \"annotators\",\"gender_annotators\",\"age_annotators\",\"labels_task1\",\"labels_task2\",\"labels_task3\",\"split\"],\n",
    "    axis=1\n",
    ")\n",
    "df_test_T1 = df_test_T1.drop(\n",
    "    [\"number_annotators\", \"annotators\",\"gender_annotators\",\"age_annotators\",\"labels_task1\",\"labels_task2\",\"labels_task3\",\"split\"],\n",
    "    axis=1\n",
    ")\n",
    "df_val_T1 = df_val_T1.drop(\n",
    "    [\"number_annotators\", \"annotators\",\"gender_annotators\",\"age_annotators\",\"labels_task1\",\"labels_task2\",\"labels_task3\",\"split\"],\n",
    "    axis=1\n",
    ")"
   ]
  },
  {
   "cell_type": "markdown",
   "metadata": {
    "id": "jJkepQDIIMD5"
   },
   "source": [
    "6. **Encode the `hard_label_task1` column**: Use 1 to represent \"YES\" and 0 to represent \"NO\"."
   ]
  },
  {
   "cell_type": "code",
   "execution_count": 14,
   "metadata": {
    "id": "vKsJaCIkIMD5"
   },
   "outputs": [],
   "source": [
    "df_train_T1['hard_labels_task1'] = df_train_T1['hard_labels_task1'].apply(lambda x: 1 if x == 'YES' else 0)\n",
    "df_test_T1['hard_labels_task1'] = df_test_T1['hard_labels_task1'].apply(lambda x: 1 if x == 'YES' else 0)\n",
    "df_val_T1['hard_labels_task1'] = df_val_T1['hard_labels_task1'].apply(lambda x: 1 if x == 'YES' else 0)"
   ]
  },
  {
   "cell_type": "code",
   "execution_count": 15,
   "metadata": {
    "colab": {
     "base_uri": "https://localhost:8080/",
     "height": 238
    },
    "id": "giTrpXoHIMD6",
    "outputId": "d00eb7f3-8304-4a0a-a9a9-b37490c43cd4"
   },
   "outputs": [
    {
     "data": {
      "text/html": [
       "<div>\n",
       "<style scoped>\n",
       "    .dataframe tbody tr th:only-of-type {\n",
       "        vertical-align: middle;\n",
       "    }\n",
       "\n",
       "    .dataframe tbody tr th {\n",
       "        vertical-align: top;\n",
       "    }\n",
       "\n",
       "    .dataframe thead th {\n",
       "        text-align: right;\n",
       "    }\n",
       "</style>\n",
       "<table border=\"1\" class=\"dataframe\">\n",
       "  <thead>\n",
       "    <tr style=\"text-align: right;\">\n",
       "      <th></th>\n",
       "      <th>lang</th>\n",
       "      <th>tweet</th>\n",
       "      <th>hard_labels_task1</th>\n",
       "    </tr>\n",
       "    <tr>\n",
       "      <th>id_EXIST</th>\n",
       "      <th></th>\n",
       "      <th></th>\n",
       "      <th></th>\n",
       "    </tr>\n",
       "  </thead>\n",
       "  <tbody>\n",
       "    <tr>\n",
       "      <th>200002</th>\n",
       "      <td>en</td>\n",
       "      <td>Writing a uni essay in my local pub with a cof...</td>\n",
       "      <td>1</td>\n",
       "    </tr>\n",
       "    <tr>\n",
       "      <th>200003</th>\n",
       "      <td>en</td>\n",
       "      <td>@UniversalORL it is 2021 not 1921. I dont appr...</td>\n",
       "      <td>1</td>\n",
       "    </tr>\n",
       "    <tr>\n",
       "      <th>200006</th>\n",
       "      <td>en</td>\n",
       "      <td>According to a customer I have plenty of time ...</td>\n",
       "      <td>1</td>\n",
       "    </tr>\n",
       "    <tr>\n",
       "      <th>200007</th>\n",
       "      <td>en</td>\n",
       "      <td>So only 'blokes' drink beer? Sorry, but if you...</td>\n",
       "      <td>1</td>\n",
       "    </tr>\n",
       "    <tr>\n",
       "      <th>200008</th>\n",
       "      <td>en</td>\n",
       "      <td>New to the shelves this week - looking forward...</td>\n",
       "      <td>0</td>\n",
       "    </tr>\n",
       "  </tbody>\n",
       "</table>\n",
       "</div>"
      ],
      "text/plain": [
       "         lang                                              tweet  \\\n",
       "id_EXIST                                                           \n",
       "200002     en  Writing a uni essay in my local pub with a cof...   \n",
       "200003     en  @UniversalORL it is 2021 not 1921. I dont appr...   \n",
       "200006     en  According to a customer I have plenty of time ...   \n",
       "200007     en  So only 'blokes' drink beer? Sorry, but if you...   \n",
       "200008     en  New to the shelves this week - looking forward...   \n",
       "\n",
       "          hard_labels_task1  \n",
       "id_EXIST                     \n",
       "200002                    1  \n",
       "200003                    1  \n",
       "200006                    1  \n",
       "200007                    1  \n",
       "200008                    0  "
      ]
     },
     "execution_count": 15,
     "metadata": {},
     "output_type": "execute_result"
    }
   ],
   "source": [
    "df_train_T1.head()"
   ]
  },
  {
   "cell_type": "code",
   "execution_count": 16,
   "metadata": {
    "colab": {
     "base_uri": "https://localhost:8080/",
     "height": 238
    },
    "id": "ZRkBXX-MIMD7",
    "outputId": "2a962a28-e242-4589-dd41-fbc1822264d3"
   },
   "outputs": [
    {
     "data": {
      "text/html": [
       "<div>\n",
       "<style scoped>\n",
       "    .dataframe tbody tr th:only-of-type {\n",
       "        vertical-align: middle;\n",
       "    }\n",
       "\n",
       "    .dataframe tbody tr th {\n",
       "        vertical-align: top;\n",
       "    }\n",
       "\n",
       "    .dataframe thead th {\n",
       "        text-align: right;\n",
       "    }\n",
       "</style>\n",
       "<table border=\"1\" class=\"dataframe\">\n",
       "  <thead>\n",
       "    <tr style=\"text-align: right;\">\n",
       "      <th></th>\n",
       "      <th>lang</th>\n",
       "      <th>tweet</th>\n",
       "      <th>hard_labels_task1</th>\n",
       "    </tr>\n",
       "    <tr>\n",
       "      <th>id_EXIST</th>\n",
       "      <th></th>\n",
       "      <th></th>\n",
       "      <th></th>\n",
       "    </tr>\n",
       "  </thead>\n",
       "  <tbody>\n",
       "    <tr>\n",
       "      <th>400178</th>\n",
       "      <td>en</td>\n",
       "      <td>1st day at the pool on a beautiful Sunday in N...</td>\n",
       "      <td>0</td>\n",
       "    </tr>\n",
       "    <tr>\n",
       "      <th>400179</th>\n",
       "      <td>en</td>\n",
       "      <td>“I like your outfit too except when i dress up...</td>\n",
       "      <td>1</td>\n",
       "    </tr>\n",
       "    <tr>\n",
       "      <th>400180</th>\n",
       "      <td>en</td>\n",
       "      <td>@KNasFanFic 🥺💖 same, though!!! the angst just ...</td>\n",
       "      <td>0</td>\n",
       "    </tr>\n",
       "    <tr>\n",
       "      <th>400181</th>\n",
       "      <td>en</td>\n",
       "      <td>@themaxburns @GOP Fuck that cunt. Tried to vot...</td>\n",
       "      <td>1</td>\n",
       "    </tr>\n",
       "    <tr>\n",
       "      <th>400182</th>\n",
       "      <td>en</td>\n",
       "      <td>@ultshunnie u gotta say some shit like “i’ll f...</td>\n",
       "      <td>1</td>\n",
       "    </tr>\n",
       "  </tbody>\n",
       "</table>\n",
       "</div>"
      ],
      "text/plain": [
       "         lang                                              tweet  \\\n",
       "id_EXIST                                                           \n",
       "400178     en  1st day at the pool on a beautiful Sunday in N...   \n",
       "400179     en  “I like your outfit too except when i dress up...   \n",
       "400180     en  @KNasFanFic 🥺💖 same, though!!! the angst just ...   \n",
       "400181     en  @themaxburns @GOP Fuck that cunt. Tried to vot...   \n",
       "400182     en  @ultshunnie u gotta say some shit like “i’ll f...   \n",
       "\n",
       "          hard_labels_task1  \n",
       "id_EXIST                     \n",
       "400178                    0  \n",
       "400179                    1  \n",
       "400180                    0  \n",
       "400181                    1  \n",
       "400182                    1  "
      ]
     },
     "execution_count": 16,
     "metadata": {},
     "output_type": "execute_result"
    }
   ],
   "source": [
    "df_test_T1.head()"
   ]
  },
  {
   "cell_type": "code",
   "execution_count": 17,
   "metadata": {
    "colab": {
     "base_uri": "https://localhost:8080/",
     "height": 238
    },
    "id": "j_p53FbmIMD8",
    "outputId": "20c748c0-87e5-44b2-aef3-71987f05dca1"
   },
   "outputs": [
    {
     "data": {
      "text/html": [
       "<div>\n",
       "<style scoped>\n",
       "    .dataframe tbody tr th:only-of-type {\n",
       "        vertical-align: middle;\n",
       "    }\n",
       "\n",
       "    .dataframe tbody tr th {\n",
       "        vertical-align: top;\n",
       "    }\n",
       "\n",
       "    .dataframe thead th {\n",
       "        text-align: right;\n",
       "    }\n",
       "</style>\n",
       "<table border=\"1\" class=\"dataframe\">\n",
       "  <thead>\n",
       "    <tr style=\"text-align: right;\">\n",
       "      <th></th>\n",
       "      <th>lang</th>\n",
       "      <th>tweet</th>\n",
       "      <th>hard_labels_task1</th>\n",
       "    </tr>\n",
       "    <tr>\n",
       "      <th>id_EXIST</th>\n",
       "      <th></th>\n",
       "      <th></th>\n",
       "      <th></th>\n",
       "    </tr>\n",
       "  </thead>\n",
       "  <tbody>\n",
       "    <tr>\n",
       "      <th>400001</th>\n",
       "      <td>en</td>\n",
       "      <td>@Mike_Fabricant “You should smile more, love. ...</td>\n",
       "      <td>0</td>\n",
       "    </tr>\n",
       "    <tr>\n",
       "      <th>400002</th>\n",
       "      <td>en</td>\n",
       "      <td>@BBCWomansHour @LabWomenDec @EverydaySexism Sh...</td>\n",
       "      <td>1</td>\n",
       "    </tr>\n",
       "    <tr>\n",
       "      <th>400003</th>\n",
       "      <td>en</td>\n",
       "      <td>#everydaysexism Some man moving my suitcase in...</td>\n",
       "      <td>1</td>\n",
       "    </tr>\n",
       "    <tr>\n",
       "      <th>400004</th>\n",
       "      <td>en</td>\n",
       "      <td>@KolHue @OliverJia1014 lol gamergate the go to...</td>\n",
       "      <td>0</td>\n",
       "    </tr>\n",
       "    <tr>\n",
       "      <th>400005</th>\n",
       "      <td>en</td>\n",
       "      <td>@ShelfStoriesGBL To me this has the same negat...</td>\n",
       "      <td>0</td>\n",
       "    </tr>\n",
       "  </tbody>\n",
       "</table>\n",
       "</div>"
      ],
      "text/plain": [
       "         lang                                              tweet  \\\n",
       "id_EXIST                                                           \n",
       "400001     en  @Mike_Fabricant “You should smile more, love. ...   \n",
       "400002     en  @BBCWomansHour @LabWomenDec @EverydaySexism Sh...   \n",
       "400003     en  #everydaysexism Some man moving my suitcase in...   \n",
       "400004     en  @KolHue @OliverJia1014 lol gamergate the go to...   \n",
       "400005     en  @ShelfStoriesGBL To me this has the same negat...   \n",
       "\n",
       "          hard_labels_task1  \n",
       "id_EXIST                     \n",
       "400001                    0  \n",
       "400002                    1  \n",
       "400003                    1  \n",
       "400004                    0  \n",
       "400005                    0  "
      ]
     },
     "execution_count": 17,
     "metadata": {},
     "output_type": "execute_result"
    }
   ],
   "source": [
    "df_val_T1.head()"
   ]
  },
  {
   "cell_type": "code",
   "execution_count": 18,
   "metadata": {
    "colab": {
     "base_uri": "https://localhost:8080/"
    },
    "id": "8T7m7IjWIMD9",
    "outputId": "a7192734-c386-4426-a16a-58ded2335a17"
   },
   "outputs": [
    {
     "name": "stdout",
     "output_type": "stream",
     "text": [
      "- Training dataset shape: (2870, 3)\n",
      "- Test dataset shape: (286, 3)\n",
      "- Validation dataset shape: (158, 3)\n"
     ]
    }
   ],
   "source": [
    "print(\"- Training dataset shape:\", df_train_T1.shape)\n",
    "print(\"- Test dataset shape:\", df_test_T1.shape)\n",
    "print(\"- Validation dataset shape:\", df_val_T1.shape)"
   ]
  },
  {
   "cell_type": "markdown",
   "metadata": {
    "collapsed": false,
    "id": "poPlvlZ7IMD-"
   },
   "source": [
    "# [Task2 - 0.5 points] Data Cleaning\n",
    "In the context of tweets, we have noisy and informal data that often includes unnecessary elements like emojis, hashtags, mentions, and URLs. These elements may interfere with the text analysis.\n"
   ]
  },
  {
   "cell_type": "markdown",
   "metadata": {
    "collapsed": false,
    "id": "TWnsTwVzIMD_"
   },
   "source": [
    "\n",
    "### Instructions\n",
    "- **Remove emojis** from the tweets.\n",
    "- **Remove hashtags** (e.g., `#example`).\n",
    "- **Remove mentions** such as `@user`.\n",
    "- **Remove URLs** from the tweets.\n",
    "- **Remove special characters and symbols**.\n",
    "- **Remove specific quote characters** (e.g., curly quotes).\n",
    "- **Perform lemmatization** to reduce words to their base form."
   ]
  },
  {
   "cell_type": "markdown",
   "metadata": {},
   "source": [
    "---"
   ]
  },
  {
   "cell_type": "code",
   "execution_count": 19,
   "metadata": {
    "colab": {
     "base_uri": "https://localhost:8080/"
    },
    "id": "dgGgbSqpIMD_",
    "outputId": "6647fa29-990f-4b5e-c23c-e033b70585b3"
   },
   "outputs": [
    {
     "name": "stderr",
     "output_type": "stream",
     "text": [
      "[nltk_data] Downloading package punkt_tab to\n",
      "[nltk_data]     C:\\Users\\simon\\AppData\\Roaming\\nltk_data...\n",
      "[nltk_data]   Package punkt_tab is already up-to-date!\n",
      "[nltk_data] Downloading package punkt to\n",
      "[nltk_data]     C:\\Users\\simon\\AppData\\Roaming\\nltk_data...\n",
      "[nltk_data]   Package punkt is already up-to-date!\n",
      "[nltk_data] Downloading package omw-1.4 to\n",
      "[nltk_data]     C:\\Users\\simon\\AppData\\Roaming\\nltk_data...\n",
      "[nltk_data]   Package omw-1.4 is already up-to-date!\n",
      "[nltk_data] Downloading package wordnet to\n",
      "[nltk_data]     C:\\Users\\simon\\AppData\\Roaming\\nltk_data...\n",
      "[nltk_data]   Package wordnet is already up-to-date!\n",
      "[nltk_data] Downloading package averaged_perceptron_tagger to\n",
      "[nltk_data]     C:\\Users\\simon\\AppData\\Roaming\\nltk_data...\n",
      "[nltk_data]   Package averaged_perceptron_tagger is already up-to-\n",
      "[nltk_data]       date!\n",
      "[nltk_data] Downloading package averaged_perceptron_tagger_eng to\n",
      "[nltk_data]     C:\\Users\\simon\\AppData\\Roaming\\nltk_data...\n",
      "[nltk_data]   Package averaged_perceptron_tagger_eng is already up-to-\n",
      "[nltk_data]       date!\n"
     ]
    },
    {
     "data": {
      "text/plain": [
       "True"
      ]
     },
     "execution_count": 19,
     "metadata": {},
     "output_type": "execute_result"
    }
   ],
   "source": [
    "nltk.download('punkt_tab')\n",
    "nltk.download('punkt')\n",
    "nltk.download('omw-1.4')\n",
    "nltk.download('wordnet')\n",
    "nltk.download('averaged_perceptron_tagger')\n",
    "nltk.download('averaged_perceptron_tagger_eng')"
   ]
  },
  {
   "cell_type": "code",
   "execution_count": 20,
   "metadata": {
    "colab": {
     "base_uri": "https://localhost:8080/"
    },
    "id": "g6B7w9ukIMEA",
    "outputId": "91e69893-b9ee-4cc5-cba2-2b3648f55c3b"
   },
   "outputs": [],
   "source": [
    "##### REVIEW #####\n",
    "\n",
    "lemmatizer = WordNetLemmatizer()\n",
    "try:\n",
    "    STOPWORDS = set(stopwords.words('english'))\n",
    "except LookupError:\n",
    "    nltk.download('stopwords')\n",
    "    STOPWORDS = set(stopwords.words('english'))\n",
    "\n",
    "def get_wordnet_key(pos_tag):\n",
    "    if pos_tag.startswith('J'):\n",
    "        return wordnet.ADJ\n",
    "    elif pos_tag.startswith('V'):\n",
    "        return wordnet.VERB\n",
    "    elif pos_tag.startswith('N'):\n",
    "        return wordnet.NOUN\n",
    "    elif pos_tag.startswith('R'):\n",
    "        return wordnet.ADV\n",
    "    else:\n",
    "        return 'n'\n",
    "\n",
    "def lem_text(text: str):\n",
    "    tokens = word_tokenize(text)\n",
    "    tagged = pos_tag(tokens)\n",
    "    words = [lemmatizer.lemmatize(token, get_wordnet_key(tag)) for token, tag in tagged]\n",
    "    return \" \".join(words)\n",
    "\n",
    "def strip_emoji(text):\n",
    "    RE_EMOJI = re.compile(u'([\\U00002600-\\U000027BF])|([\\U0001f300-\\U0001f64F])|([\\U0001f680-\\U0001f6FF])')\n",
    "    return RE_EMOJI.sub(r'', text)\n",
    "\n",
    "def strip_tags(text):\n",
    "    entity_prefixes = ['@','#']\n",
    "    for separator in  string.punctuation:\n",
    "        if separator not in entity_prefixes :\n",
    "            text = text.replace(separator,' ')\n",
    "    words = []\n",
    "    for word in text.split():\n",
    "        word = word.strip()\n",
    "        if word:\n",
    "            if word[0] not in entity_prefixes:\n",
    "                words.append(word)\n",
    "    return ' '.join(words)\n",
    "\n",
    "def strip_links(text):\n",
    "    link_regex = re.compile('((https?):((//)|(\\\\\\\\))+([\\w\\d:#@%/;$()~_?\\+-=\\\\\\.&](#!)?)*)', re.DOTALL)\n",
    "    links = re.findall(link_regex, text)\n",
    "    for link in links:\n",
    "        text = text.replace(link[0], ', ')\n",
    "    return text\n",
    "\n",
    "def remove_links(text):\n",
    "    \"\"\"\n",
    "    Removes all links (URLs) from the given string.\n",
    "\n",
    "    Args:\n",
    "        text (str): The input string containing links.\n",
    "\n",
    "    Returns:\n",
    "        str: The string with all links removed.\n",
    "    \"\"\"\n",
    "    # Regular expression pattern to match URLs\n",
    "    url_pattern = r'http[s]?://(?:[a-zA-Z]|[0-9]|[$-_@.&+]|[!*\\\\(\\\\),]|(?:%[0-9a-fA-F][0-9a-fA-F]))+'\n",
    "    return re.sub(url_pattern, '', text)\n",
    "\n",
    "def special_ch_sym(text):\n",
    "    RE_ch_sym = re.compile(u'[^a-z A-Z 0-9]')\n",
    "    return RE_ch_sym.sub(r'',text)\n",
    "\n",
    "def replace_br(text: str) -> str:\n",
    "    \"\"\"\n",
    "    Replaces br characters\n",
    "    \"\"\"\n",
    "    return text.replace('br', '')\n",
    "\n",
    "def remove_stopwords(text: str) -> str:\n",
    "    return ' '.join([x for x in text.split() if x and x not in STOPWORDS])\n",
    "\n",
    "def text_cleaning(text):\n",
    "    return lem_text(remove_stopwords(replace_br(special_ch_sym(strip_tags(remove_links(strip_emoji(text.lower().strip())))))))"
   ]
  },
  {
   "cell_type": "code",
   "execution_count": 21,
   "metadata": {
    "colab": {
     "base_uri": "https://localhost:8080/",
     "height": 238
    },
    "id": "PAZjiKLhIMEB",
    "outputId": "828c76cc-ab15-4dbd-e18d-e575e2246382"
   },
   "outputs": [
    {
     "data": {
      "text/html": [
       "<div>\n",
       "<style scoped>\n",
       "    .dataframe tbody tr th:only-of-type {\n",
       "        vertical-align: middle;\n",
       "    }\n",
       "\n",
       "    .dataframe tbody tr th {\n",
       "        vertical-align: top;\n",
       "    }\n",
       "\n",
       "    .dataframe thead th {\n",
       "        text-align: right;\n",
       "    }\n",
       "</style>\n",
       "<table border=\"1\" class=\"dataframe\">\n",
       "  <thead>\n",
       "    <tr style=\"text-align: right;\">\n",
       "      <th></th>\n",
       "      <th>lang</th>\n",
       "      <th>tweet</th>\n",
       "      <th>hard_labels_task1</th>\n",
       "    </tr>\n",
       "    <tr>\n",
       "      <th>id_EXIST</th>\n",
       "      <th></th>\n",
       "      <th></th>\n",
       "      <th></th>\n",
       "    </tr>\n",
       "  </thead>\n",
       "  <tbody>\n",
       "    <tr>\n",
       "      <th>200002</th>\n",
       "      <td>en</td>\n",
       "      <td>write uni essay local pub coffee random old ma...</td>\n",
       "      <td>1</td>\n",
       "    </tr>\n",
       "    <tr>\n",
       "      <th>200003</th>\n",
       "      <td>en</td>\n",
       "      <td>2021 1921 dont appreciate two ride team member...</td>\n",
       "      <td>1</td>\n",
       "    </tr>\n",
       "    <tr>\n",
       "      <th>200006</th>\n",
       "      <td>en</td>\n",
       "      <td>accord customer plenty time go spent stirling ...</td>\n",
       "      <td>1</td>\n",
       "    </tr>\n",
       "    <tr>\n",
       "      <th>200007</th>\n",
       "      <td>en</td>\n",
       "      <td>bloke drink beer sorry bloke drink wine appare...</td>\n",
       "      <td>1</td>\n",
       "    </tr>\n",
       "    <tr>\n",
       "      <th>200008</th>\n",
       "      <td>en</td>\n",
       "      <td>new shelf week look forward read book</td>\n",
       "      <td>0</td>\n",
       "    </tr>\n",
       "  </tbody>\n",
       "</table>\n",
       "</div>"
      ],
      "text/plain": [
       "         lang                                              tweet  \\\n",
       "id_EXIST                                                           \n",
       "200002     en  write uni essay local pub coffee random old ma...   \n",
       "200003     en  2021 1921 dont appreciate two ride team member...   \n",
       "200006     en  accord customer plenty time go spent stirling ...   \n",
       "200007     en  bloke drink beer sorry bloke drink wine appare...   \n",
       "200008     en              new shelf week look forward read book   \n",
       "\n",
       "          hard_labels_task1  \n",
       "id_EXIST                     \n",
       "200002                    1  \n",
       "200003                    1  \n",
       "200006                    1  \n",
       "200007                    1  \n",
       "200008                    0  "
      ]
     },
     "execution_count": 21,
     "metadata": {},
     "output_type": "execute_result"
    }
   ],
   "source": [
    "df_train_T2 = df_train_T1.copy()\n",
    "df_train_T2['tweet'] = df_train_T2['tweet'].apply(text_cleaning)\n",
    "\n",
    "df_test_T2 = df_test_T1.copy()\n",
    "df_test_T2['tweet'] = df_test_T2['tweet'].apply(text_cleaning)\n",
    "\n",
    "df_val_T2 = df_val_T1.copy()\n",
    "df_val_T2['tweet'] = df_val_T2['tweet'].apply(text_cleaning)\n",
    "\n",
    "df_train_T2.head()"
   ]
  },
  {
   "cell_type": "markdown",
   "metadata": {
    "id": "s3KylLHNl0bE"
   },
   "source": [
    "# [Task 3 - 0.5 points] Text Encoding\n",
    "To train a neural sexism classifier, you first need to encode text into numerical format.\n",
    "\n",
    "\n"
   ]
  },
  {
   "cell_type": "markdown",
   "metadata": {
    "id": "hr1lTHUVOXff"
   },
   "source": [
    "### Instructions\n",
    "\n",
    "* Embed words using **GloVe embeddings**.\n",
    "* You are **free** to pick any embedding dimension.\n",
    "\n",
    "\n",
    "\n"
   ]
  },
  {
   "cell_type": "markdown",
   "metadata": {
    "id": "r6NNMEjWOZQr"
   },
   "source": [
    "### Note : What about OOV tokens?\n",
    "   * All the tokens in the **training** set that are not in GloVe **must** be added to the vocabulary.\n",
    "   * For the remaining tokens (i.e., OOV in the validation and test sets), you have to assign them a **special token** (e.g., [UNK]) and a **static** embedding.\n",
    "   * You are **free** to define the static embedding using any strategy (e.g., random, neighbourhood, etc...)\n",
    "\n"
   ]
  },
  {
   "cell_type": "markdown",
   "metadata": {
    "id": "90UztlGUObXk"
   },
   "source": [
    "### More about OOV\n",
    "\n",
    "For a given token:\n",
    "\n",
    "* **If in train set**: add to vocabulary and assign an embedding (use GloVe if token in GloVe, custom embedding otherwise).\n",
    "* **If in val/test set**: assign special token if not in vocabulary and assign custom embedding.\n",
    "\n",
    "Your vocabulary **should**:\n",
    "\n",
    "* Contain all tokens in train set; or\n",
    "* Union of tokens in train set and in GloVe $\\rightarrow$ we make use of existing knowledge!"
   ]
  },
  {
   "cell_type": "markdown",
   "metadata": {},
   "source": [
    "---"
   ]
  },
  {
   "cell_type": "markdown",
   "metadata": {
    "id": "qGptfUqyIMEE"
   },
   "source": [
    "1. **Building a vocabulary**"
   ]
  },
  {
   "cell_type": "code",
   "execution_count": 43,
   "metadata": {
    "id": "7vnDEZx3IMEE"
   },
   "outputs": [],
   "source": [
    "def build_vocabulary(df):\n",
    "    idx_to_word = OrderedDict()\n",
    "    word_to_idx = OrderedDict()\n",
    "\n",
    "    curr_idx = 0\n",
    "    word_to_idx['<pad>'] = curr_idx\n",
    "    idx_to_word[curr_idx] = '<pad>'\n",
    "    curr_idx += 1\n",
    "\n",
    "    for sentence in tqdm(df.tweet.values):\n",
    "        tokens = sentence.split()\n",
    "        for token in tokens:\n",
    "            if token not in word_to_idx:\n",
    "                word_to_idx[token] = curr_idx\n",
    "                idx_to_word[curr_idx] = token\n",
    "                curr_idx += 1\n",
    "    word_to_idx['<unk>'] = curr_idx\n",
    "    idx_to_word[curr_idx] = '<unk>'\n",
    "\n",
    "    word_listing = list(idx_to_word.values())\n",
    "    return idx_to_word, word_to_idx, word_listing"
   ]
  },
  {
   "cell_type": "code",
   "execution_count": 44,
   "metadata": {
    "colab": {
     "base_uri": "https://localhost:8080/"
    },
    "id": "_fw0J8NtIMEP",
    "outputId": "b7b239fa-7937-4315-d367-ffdd2bab17ce"
   },
   "outputs": [
    {
     "name": "stderr",
     "output_type": "stream",
     "text": [
      "100%|██████████| 2870/2870 [00:00<00:00, 6192.49it/s]"
     ]
    },
    {
     "name": "stdout",
     "output_type": "stream",
     "text": [
      "\n",
      "[Debug] Index -> Word vocabulary size: 9377\n",
      "[Debug] Word -> Index vocabulary size: 9377\n",
      "[Debug] Some words: [('pleasant', 9365), ('drachen', 9366), ('armor', 9367), ('dragoon', 9368), ('estinen', 9369), ('nike', 9370), ('coochie', 9371), ('mutuals', 9372), ('grabs', 9373), ('lh', 9374), ('mandy', 9375), ('<unk>', 9376)]\n"
     ]
    },
    {
     "name": "stderr",
     "output_type": "stream",
     "text": [
      "\n"
     ]
    }
   ],
   "source": [
    "idx_to_word, word_to_idx, word_listing = build_vocabulary(df_train_T2)\n",
    "print()\n",
    "print(f'[Debug] Index -> Word vocabulary size: {len(idx_to_word)}')\n",
    "print(f'[Debug] Word -> Index vocabulary size: {len(word_to_idx)}')\n",
    "print(f'[Debug] Some words: {[(idx_to_word[idx], idx) for idx in np.arange(9365, 9377)]}')"
   ]
  },
  {
   "cell_type": "code",
   "execution_count": 45,
   "metadata": {
    "id": "0JpFNaEKIMEP"
   },
   "outputs": [],
   "source": [
    "def evaluate_vocabulary(idx_to_word, word_to_idx,\n",
    "                        word_listing, df, check_default_size: bool = False):\n",
    "    print(\"[Vocabulary Evaluation] Size checking...\")\n",
    "    assert len(idx_to_word) == len(word_to_idx)\n",
    "    assert len(idx_to_word) == len(word_listing)\n",
    "\n",
    "    print(\"[Vocabulary Evaluation] Content checking...\")\n",
    "    for i in tqdm(range(0, len(idx_to_word))):\n",
    "        assert idx_to_word[i] in word_to_idx\n",
    "        assert word_to_idx[idx_to_word[i]] == i\n",
    "\n",
    "    print(\"[Vocabulary Evaluation] Consistency checking...\")\n",
    "    _, _, first_word_listing = build_vocabulary(df)\n",
    "    _, _, second_word_listing = build_vocabulary(df)\n",
    "    assert first_word_listing == second_word_listing\n",
    "\n",
    "    print(\"[Vocabulary Evaluation] Toy example checking...\")\n",
    "    toy_df = pd.DataFrame.from_dict({\n",
    "        'tweet': [\"all that glitters is not gold\", \"all in all i like this assignment\"]\n",
    "    })\n",
    "    _, _, toy_word_listing = build_vocabulary(toy_df)\n",
    "    toy_valid_vocabulary = set(' '.join(toy_df.tweet.values).split())\n",
    "    toy_valid_vocabulary.add(\"<unk>\")\n",
    "    assert set(toy_word_listing) == toy_valid_vocabulary"
   ]
  },
  {
   "cell_type": "code",
   "execution_count": 46,
   "metadata": {
    "id": "eYzPqdmvIMEP"
   },
   "outputs": [
    {
     "name": "stdout",
     "output_type": "stream",
     "text": [
      "Vocabulary evaluation...\n",
      "[Vocabulary Evaluation] Size checking...\n",
      "[Vocabulary Evaluation] Content checking...\n"
     ]
    },
    {
     "name": "stderr",
     "output_type": "stream",
     "text": [
      "100%|██████████| 9377/9377 [00:00<00:00, 1068546.43it/s]\n"
     ]
    },
    {
     "name": "stdout",
     "output_type": "stream",
     "text": [
      "[Vocabulary Evaluation] Consistency checking...\n"
     ]
    },
    {
     "name": "stderr",
     "output_type": "stream",
     "text": [
      "100%|██████████| 2870/2870 [00:00<00:00, 6170.28it/s]\n",
      "100%|██████████| 2870/2870 [00:00<00:00, 7129.19it/s]\n"
     ]
    },
    {
     "name": "stdout",
     "output_type": "stream",
     "text": [
      "[Vocabulary Evaluation] Toy example checking...\n"
     ]
    },
    {
     "name": "stderr",
     "output_type": "stream",
     "text": [
      "100%|██████████| 2/2 [00:00<?, ?it/s]\n"
     ]
    },
    {
     "ename": "AssertionError",
     "evalue": "",
     "output_type": "error",
     "traceback": [
      "\u001b[1;31m---------------------------------------------------------------------------\u001b[0m",
      "\u001b[1;31mAssertionError\u001b[0m                            Traceback (most recent call last)",
      "Cell \u001b[1;32mIn[46], line 2\u001b[0m\n\u001b[0;32m      1\u001b[0m \u001b[38;5;28mprint\u001b[39m(\u001b[38;5;124m\"\u001b[39m\u001b[38;5;124mVocabulary evaluation...\u001b[39m\u001b[38;5;124m\"\u001b[39m)\n\u001b[1;32m----> 2\u001b[0m \u001b[43mevaluate_vocabulary\u001b[49m\u001b[43m(\u001b[49m\u001b[43midx_to_word\u001b[49m\u001b[43m,\u001b[49m\u001b[43m \u001b[49m\u001b[43mword_to_idx\u001b[49m\u001b[43m,\u001b[49m\u001b[43m \u001b[49m\u001b[43mword_listing\u001b[49m\u001b[43m,\u001b[49m\u001b[43m \u001b[49m\u001b[43mdf_train_T2\u001b[49m\u001b[43m)\u001b[49m\n\u001b[0;32m      3\u001b[0m \u001b[38;5;28mprint\u001b[39m(\u001b[38;5;124m\"\u001b[39m\u001b[38;5;124mEvaluation completed!\u001b[39m\u001b[38;5;124m\"\u001b[39m)\n",
      "Cell \u001b[1;32mIn[45], line 24\u001b[0m, in \u001b[0;36mevaluate_vocabulary\u001b[1;34m(idx_to_word, word_to_idx, word_listing, df, check_default_size)\u001b[0m\n\u001b[0;32m     22\u001b[0m toy_valid_vocabulary \u001b[38;5;241m=\u001b[39m \u001b[38;5;28mset\u001b[39m(\u001b[38;5;124m'\u001b[39m\u001b[38;5;124m \u001b[39m\u001b[38;5;124m'\u001b[39m\u001b[38;5;241m.\u001b[39mjoin(toy_df\u001b[38;5;241m.\u001b[39mtweet\u001b[38;5;241m.\u001b[39mvalues)\u001b[38;5;241m.\u001b[39msplit())\n\u001b[0;32m     23\u001b[0m toy_valid_vocabulary\u001b[38;5;241m.\u001b[39madd(\u001b[38;5;124m\"\u001b[39m\u001b[38;5;124m<unk>\u001b[39m\u001b[38;5;124m\"\u001b[39m)\n\u001b[1;32m---> 24\u001b[0m \u001b[38;5;28;01massert\u001b[39;00m \u001b[38;5;28mset\u001b[39m(toy_word_listing) \u001b[38;5;241m==\u001b[39m toy_valid_vocabulary\n",
      "\u001b[1;31mAssertionError\u001b[0m: "
     ]
    }
   ],
   "source": [
    "print(\"Vocabulary evaluation...\")\n",
    "evaluate_vocabulary(idx_to_word, word_to_idx, word_listing, df_train_T2)\n",
    "print(\"Evaluation completed!\")"
   ]
  },
  {
   "cell_type": "markdown",
   "metadata": {
    "id": "pzbltyt9IMEP"
   },
   "source": [
    "2. **Embedding**"
   ]
  },
  {
   "cell_type": "code",
   "execution_count": 47,
   "metadata": {
    "id": "uVDnk_MwIMEP"
   },
   "outputs": [],
   "source": [
    "import gensim\n",
    "import gensim.downloader as gloader\n",
    "\n",
    "def load_embedding_model(model_type: str, embedding_dimension: int = 50) -> gensim.models.keyedvectors.KeyedVectors:\n",
    "\n",
    "    download_path = \"\"\n",
    "    if model_type.strip().lower() == 'word2vec':\n",
    "        download_path = \"word2vec-google-news-300\"\n",
    "    elif model_type.strip().lower() == 'glove':\n",
    "        download_path = \"glove-wiki-gigaword-{}\".format(embedding_dimension)\n",
    "    elif model_type.strip().lower() == 'fasttext':\n",
    "        download_path = \"fasttext-wiki-news-subwords-300\"\n",
    "    else:\n",
    "        raise AttributeError(\"Unsupported embedding model type! Available ones: word2vec, glove, fasttext\")\n",
    "\n",
    "    try:\n",
    "        emb_model = gloader.load(download_path)\n",
    "    except ValueError as e:\n",
    "        print(\"Invalid embedding model name! Check the embedding dimension:\")\n",
    "        print(\"Word2Vec: 300\")\n",
    "        print(\"Glove: 50, 100, 200, 300\")\n",
    "        print('FastText: 300')\n",
    "        raise e\n",
    "\n",
    "    return emb_model"
   ]
  },
  {
   "cell_type": "code",
   "execution_count": 48,
   "metadata": {
    "id": "_rDd6Q8bIMEP"
   },
   "outputs": [],
   "source": [
    "# Modify these variables as you wish!\n",
    "# Glove -> 50, 100, 200, 300\n",
    "# Word2Vec -> 300\n",
    "# Fasttext -> 300\n",
    "embedding_model = load_embedding_model(model_type=\"glove\", embedding_dimension=50)"
   ]
  },
  {
   "cell_type": "markdown",
   "metadata": {
    "id": "RuTJamcRIMEP"
   },
   "source": [
    "3. **Out of vocabulary (OOV) words**"
   ]
  },
  {
   "cell_type": "code",
   "execution_count": 49,
   "metadata": {
    "id": "oINwUZo4IMEP"
   },
   "outputs": [],
   "source": [
    "def check_OOV_terms(embedding_model: gensim.models.keyedvectors.KeyedVectors, word_listing):\n",
    "    embedding_vocabulary = set(embedding_model.key_to_index.keys())\n",
    "    oov = set(word_listing).difference(embedding_vocabulary)\n",
    "    return list(oov)"
   ]
  },
  {
   "cell_type": "code",
   "execution_count": 50,
   "metadata": {
    "colab": {
     "base_uri": "https://localhost:8080/"
    },
    "id": "uM43ruGPIMEP",
    "outputId": "47e31bd0-b095-47ad-abf8-b173e982c2c0"
   },
   "outputs": [
    {
     "name": "stdout",
     "output_type": "stream",
     "text": [
      "Total OOV terms: 1231 (13.13%)\n"
     ]
    }
   ],
   "source": [
    "oov_terms = check_OOV_terms(embedding_model, word_listing)\n",
    "oov_percentage = float(len(oov_terms)) * 100 / len(word_listing)\n",
    "print(f\"Total OOV terms: {len(oov_terms)} ({oov_percentage:.2f}%)\")"
   ]
  },
  {
   "cell_type": "code",
   "execution_count": 51,
   "metadata": {
    "id": "AyvSWOBTIMEP"
   },
   "outputs": [],
   "source": [
    "def build_embedding_matrix(embedding_model, embedding_dimension, word_to_idx, vocab_size, oov_terms):\n",
    "\n",
    "    embedding_matrix = np.zeros((vocab_size, embedding_dimension), dtype=np.float32)\n",
    "    for word, idx in tqdm(word_to_idx.items()):\n",
    "        try:\n",
    "            embedding_vector = embedding_model[word]\n",
    "        except (KeyError, TypeError):\n",
    "            if word == \"<unk>\":\n",
    "                embedding_vector = np.zeros(embedding_dimension)\n",
    "            else:\n",
    "                embedding_vector = np.random.uniform(low=-0.05, high=0.05, size=embedding_dimension)\n",
    "\n",
    "        embedding_matrix[idx-1] = embedding_vector\n",
    "\n",
    "    return embedding_matrix"
   ]
  },
  {
   "cell_type": "code",
   "execution_count": 52,
   "metadata": {
    "colab": {
     "base_uri": "https://localhost:8080/"
    },
    "id": "zhTVv4ejIMEP",
    "outputId": "4a22d5b3-cf6c-414c-da4a-4998317c7e8a"
   },
   "outputs": [
    {
     "name": "stderr",
     "output_type": "stream",
     "text": [
      "9377it [00:00, 432620.79it/s]"
     ]
    },
    {
     "name": "stdout",
     "output_type": "stream",
     "text": [
      "\n",
      "Embedding matrix shape: (9377, 50)\n"
     ]
    },
    {
     "name": "stderr",
     "output_type": "stream",
     "text": [
      "\n"
     ]
    }
   ],
   "source": [
    "embedding_dimension = 50\n",
    "embedding_matrix = build_embedding_matrix(embedding_model,\n",
    "                                          embedding_dimension,\n",
    "                                          word_to_idx,\n",
    "                                          len(word_to_idx),\n",
    "                                          oov_terms)\n",
    "print(f\"\\nEmbedding matrix shape: {embedding_matrix.shape}\")\n",
    "vocab_size = embedding_matrix.shape[0]"
   ]
  },
  {
   "cell_type": "markdown",
   "metadata": {
    "id": "6JLnuLGHGAUT"
   },
   "source": [
    "# [Task 4 - 1.0 points] Model definition\n",
    "\n",
    "You are now tasked to define your sexism classifier.\n",
    "\n",
    "\n"
   ]
  },
  {
   "cell_type": "markdown",
   "metadata": {
    "id": "iQFI9J-JOfXD"
   },
   "source": [
    "### Instructions\n",
    "\n",
    "* **Baseline**: implement a Bidirectional LSTM with a Dense layer on top.\n",
    "* You are **free** to experiment with hyper-parameters to define the baseline model.\n",
    "\n",
    "* **Model 1**: add an additional LSTM layer to the Baseline model."
   ]
  },
  {
   "cell_type": "markdown",
   "metadata": {
    "id": "4jALc_qYGS2E"
   },
   "source": [
    "### Token to embedding mapping\n",
    "\n",
    "You can follow two approaches for encoding tokens in your classifier.\n",
    "\n",
    "### Work directly with embeddings\n",
    "\n",
    "- Compute the embedding of each input token\n",
    "- Feed the mini-batches of shape (batch_size, # tokens, embedding_dim) to your model\n",
    "\n",
    "### Work with Embedding layer\n",
    "\n",
    "- Encode input tokens to token ids\n",
    "- Define a Embedding layer as the first layer of your model\n",
    "- Compute the embedding matrix of all known tokens (i.e., tokens in your vocabulary)\n",
    "- Initialize the Embedding layer with the computed embedding matrix\n",
    "- You are **free** to set the Embedding layer trainable or not"
   ]
  },
  {
   "cell_type": "markdown",
   "metadata": {
    "id": "GEQTPu6eGgGv"
   },
   "source": [
    "### Padding\n",
    "\n",
    "Pay attention to padding tokens!\n",
    "\n",
    "Your model **should not** be penalized on those tokens.\n",
    "\n",
    "#### How to?\n",
    "\n",
    "There are two main ways.\n",
    "\n",
    "However, their implementation depends on the neural library you are using.\n",
    "\n",
    "- Embedding layer\n",
    "- Custom loss to compute average cross-entropy on non-padding tokens only\n",
    "\n",
    "**Note**: This is a **recommendation**, but we **do not penalize** for missing workarounds."
   ]
  },
  {
   "cell_type": "markdown",
   "metadata": {},
   "source": [
    "---"
   ]
  },
  {
   "cell_type": "code",
   "execution_count": 22,
   "metadata": {
    "id": "G--DBzY-E59v"
   },
   "outputs": [],
   "source": [
    "### Hyperparameters ###\n",
    "\n",
    "num_classes = 2\n",
    "hidden_dim = 64\n",
    "max_len = max(df_train_T2['tweet'].apply(lambda x: len(x.split())))"
   ]
  },
  {
   "cell_type": "code",
   "execution_count": 58,
   "metadata": {
    "id": "1FkUxGfj8TOb"
   },
   "outputs": [
    {
     "ename": "NameError",
     "evalue": "name 'tf' is not defined",
     "output_type": "error",
     "traceback": [
      "\u001b[1;31m---------------------------------------------------------------------------\u001b[0m",
      "\u001b[1;31mNameError\u001b[0m                                 Traceback (most recent call last)",
      "Cell \u001b[1;32mIn[58], line 1\u001b[0m\n\u001b[1;32m----> 1\u001b[0m \u001b[38;5;28;01mclass\u001b[39;00m \u001b[38;5;21;01mBidirectional_LSTM_Baseline\u001b[39;00m (\u001b[43mtf\u001b[49m\u001b[38;5;241m.\u001b[39mkeras\u001b[38;5;241m.\u001b[39mModel):\n\u001b[0;32m      2\u001b[0m     \u001b[38;5;28;01mdef\u001b[39;00m \u001b[38;5;21m__init__\u001b[39m(\u001b[38;5;28mself\u001b[39m, input_dim, output_dim, hidden_dim):\n\u001b[0;32m      3\u001b[0m         \u001b[38;5;28msuper\u001b[39m(Bidirectional_LSTM_Baseline, \u001b[38;5;28mself\u001b[39m)\u001b[38;5;241m.\u001b[39m\u001b[38;5;21m__init__\u001b[39m()\n",
      "\u001b[1;31mNameError\u001b[0m: name 'tf' is not defined"
     ]
    }
   ],
   "source": [
    "class Bidirectional_LSTM_Baseline (tf.keras.Model):\n",
    "    def __init__(self, input_dim, output_dim, hidden_dim):\n",
    "        super(Bidirectional_LSTM_Baseline, self).__init__()\n",
    "\n",
    "        self.input_layer = Input(shape=(39,))\n",
    "        self.embed_layer = Embedding(input_dim=vocab_size,\n",
    "                                      output_dim=embedding_dimension,\n",
    "                                      weights=[embedding_matrix],\n",
    "                                      mask_zero=True,              # automatically masks padding tokens\n",
    "                                      name='encoder_embedding')\n",
    "        self.forward_layer = LSTM(hidden_dim)\n",
    "        self.backward_layer = LSTM(hidden_dim,\n",
    "                                   go_backwards=True)\n",
    "        self.bidir_layer = Bidirectional(self.forward_layer,\n",
    "                                         backward_layer=self.backward_layer)\n",
    "        self.dense_layer = Dense(output_dim,\n",
    "                                 activation='softmax')\n",
    "\n",
    "    def call(self, input):\n",
    "        x = self.input_layer(input)\n",
    "        x = self.embed_layer(x)\n",
    "        x = self.bidir_layer(x)\n",
    "        output = self.dense_layer(x)\n",
    "        return output\n",
    "\n",
    "class Bidirectional_LSTM_Model_1 (Bidirectional_LSTM_Baseline):\n",
    "    def __init__(self, input_dim, output_dim, hidden_dim):\n",
    "        super(Bidirectional_LSTM_Model_1, self).__init__()\n",
    "\n",
    "    def call(self, input):\n",
    "        x = self.input_layer(input)\n",
    "        x = self.embed_layer(x)\n",
    "        x = self.bidir_layer(x)\n",
    "        x = self.bidir_layer(x)\n",
    "        output = self.dense_layer(x)\n",
    "        return keras.Model(input, output, name=\"model_1_LSTM\")"
   ]
  },
  {
   "cell_type": "code",
   "execution_count": null,
   "metadata": {
    "id": "iE3CcXNEIeHQ"
   },
   "outputs": [],
   "source": [
    "def Bidir_LSTM (input_dim, output_dim, hidden_dim):\n",
    "    inputs = Input(shape=(None,))\n",
    "    embed_layer = Embedding(input_dim=vocab_size,\n",
    "                            output_dim=embedding_dimension,\n",
    "                            weights=[embedding_matrix],\n",
    "                            mask_zero=True,              # automatically masks padding tokens\n",
    "                            name='encoder_embedding')(inputs)\n",
    "    forward_layer = LSTM(hidden_dim)\n",
    "    backward_layer = LSTM(hidden_dim, \n",
    "                          go_backwards=True)\n",
    "    bidir_layer = Bidirectional(forward_layer, \n",
    "                                backward_layer=backward_layer)(embed_layer)\n",
    "    dense_layer = Dense(output_dim, \n",
    "                        activation='softmax')(bidir_layer)\n",
    "    \n",
    "    return keras.Model(inputs, dense_layer, name=\"baseline_LSTM\")"
   ]
  },
  {
   "cell_type": "code",
   "execution_count": 211,
   "metadata": {
    "colab": {
     "base_uri": "https://localhost:8080/",
     "height": 357
    },
    "id": "AdJdyXtn-VG0",
    "outputId": "b76077ff-1467-4838-c636-7706a41fa4ac"
   },
   "outputs": [
    {
     "data": {
      "text/html": [
       "<pre style=\"white-space:pre;overflow-x:auto;line-height:normal;font-family:Menlo,'DejaVu Sans Mono',consolas,'Courier New',monospace\"><span style=\"font-weight: bold\">Model: \"baseline_LSTM\"</span>\n",
       "</pre>\n"
      ],
      "text/plain": [
       "\u001b[1mModel: \"baseline_LSTM\"\u001b[0m\n"
      ]
     },
     "metadata": {},
     "output_type": "display_data"
    },
    {
     "data": {
      "text/html": [
       "<pre style=\"white-space:pre;overflow-x:auto;line-height:normal;font-family:Menlo,'DejaVu Sans Mono',consolas,'Courier New',monospace\">┏━━━━━━━━━━━━━━━━━━━━━━━━━━━┳━━━━━━━━━━━━━━━━━━━━━━━━┳━━━━━━━━━━━━━━━━┳━━━━━━━━━━━━━━━━━━━━━━━━┓\n",
       "┃<span style=\"font-weight: bold\"> Layer (type)              </span>┃<span style=\"font-weight: bold\"> Output Shape           </span>┃<span style=\"font-weight: bold\">        Param # </span>┃<span style=\"font-weight: bold\"> Connected to           </span>┃\n",
       "┡━━━━━━━━━━━━━━━━━━━━━━━━━━━╇━━━━━━━━━━━━━━━━━━━━━━━━╇━━━━━━━━━━━━━━━━╇━━━━━━━━━━━━━━━━━━━━━━━━┩\n",
       "│ input_layer_26            │ (<span style=\"color: #00d7ff; text-decoration-color: #00d7ff\">None</span>, <span style=\"color: #00d7ff; text-decoration-color: #00d7ff\">None</span>)           │              <span style=\"color: #00af00; text-decoration-color: #00af00\">0</span> │ -                      │\n",
       "│ (<span style=\"color: #0087ff; text-decoration-color: #0087ff\">InputLayer</span>)              │                        │                │                        │\n",
       "├───────────────────────────┼────────────────────────┼────────────────┼────────────────────────┤\n",
       "│ encoder_embedding         │ (<span style=\"color: #00d7ff; text-decoration-color: #00d7ff\">None</span>, <span style=\"color: #00d7ff; text-decoration-color: #00d7ff\">None</span>, <span style=\"color: #00af00; text-decoration-color: #00af00\">50</span>)       │        <span style=\"color: #00af00; text-decoration-color: #00af00\">468,850</span> │ input_layer_26[<span style=\"color: #00af00; text-decoration-color: #00af00\">0</span>][<span style=\"color: #00af00; text-decoration-color: #00af00\">0</span>]   │\n",
       "│ (<span style=\"color: #0087ff; text-decoration-color: #0087ff\">Embedding</span>)               │                        │                │                        │\n",
       "├───────────────────────────┼────────────────────────┼────────────────┼────────────────────────┤\n",
       "│ not_equal_6 (<span style=\"color: #0087ff; text-decoration-color: #0087ff\">NotEqual</span>)    │ (<span style=\"color: #00d7ff; text-decoration-color: #00d7ff\">None</span>, <span style=\"color: #00d7ff; text-decoration-color: #00d7ff\">None</span>)           │              <span style=\"color: #00af00; text-decoration-color: #00af00\">0</span> │ input_layer_26[<span style=\"color: #00af00; text-decoration-color: #00af00\">0</span>][<span style=\"color: #00af00; text-decoration-color: #00af00\">0</span>]   │\n",
       "├───────────────────────────┼────────────────────────┼────────────────┼────────────────────────┤\n",
       "│ bidirectional_24          │ (<span style=\"color: #00d7ff; text-decoration-color: #00d7ff\">None</span>, <span style=\"color: #00af00; text-decoration-color: #00af00\">128</span>)            │         <span style=\"color: #00af00; text-decoration-color: #00af00\">58,880</span> │ encoder_embedding[<span style=\"color: #00af00; text-decoration-color: #00af00\">0</span>][<span style=\"color: #00af00; text-decoration-color: #00af00\">…</span> │\n",
       "│ (<span style=\"color: #0087ff; text-decoration-color: #0087ff\">Bidirectional</span>)           │                        │                │ not_equal_6[<span style=\"color: #00af00; text-decoration-color: #00af00\">0</span>][<span style=\"color: #00af00; text-decoration-color: #00af00\">0</span>]      │\n",
       "├───────────────────────────┼────────────────────────┼────────────────┼────────────────────────┤\n",
       "│ dense_24 (<span style=\"color: #0087ff; text-decoration-color: #0087ff\">Dense</span>)          │ (<span style=\"color: #00d7ff; text-decoration-color: #00d7ff\">None</span>, <span style=\"color: #00af00; text-decoration-color: #00af00\">1</span>)              │            <span style=\"color: #00af00; text-decoration-color: #00af00\">129</span> │ bidirectional_24[<span style=\"color: #00af00; text-decoration-color: #00af00\">0</span>][<span style=\"color: #00af00; text-decoration-color: #00af00\">0</span>] │\n",
       "└───────────────────────────┴────────────────────────┴────────────────┴────────────────────────┘\n",
       "</pre>\n"
      ],
      "text/plain": [
       "┏━━━━━━━━━━━━━━━━━━━━━━━━━━━┳━━━━━━━━━━━━━━━━━━━━━━━━┳━━━━━━━━━━━━━━━━┳━━━━━━━━━━━━━━━━━━━━━━━━┓\n",
       "┃\u001b[1m \u001b[0m\u001b[1mLayer (type)             \u001b[0m\u001b[1m \u001b[0m┃\u001b[1m \u001b[0m\u001b[1mOutput Shape          \u001b[0m\u001b[1m \u001b[0m┃\u001b[1m \u001b[0m\u001b[1m       Param #\u001b[0m\u001b[1m \u001b[0m┃\u001b[1m \u001b[0m\u001b[1mConnected to          \u001b[0m\u001b[1m \u001b[0m┃\n",
       "┡━━━━━━━━━━━━━━━━━━━━━━━━━━━╇━━━━━━━━━━━━━━━━━━━━━━━━╇━━━━━━━━━━━━━━━━╇━━━━━━━━━━━━━━━━━━━━━━━━┩\n",
       "│ input_layer_26            │ (\u001b[38;5;45mNone\u001b[0m, \u001b[38;5;45mNone\u001b[0m)           │              \u001b[38;5;34m0\u001b[0m │ -                      │\n",
       "│ (\u001b[38;5;33mInputLayer\u001b[0m)              │                        │                │                        │\n",
       "├───────────────────────────┼────────────────────────┼────────────────┼────────────────────────┤\n",
       "│ encoder_embedding         │ (\u001b[38;5;45mNone\u001b[0m, \u001b[38;5;45mNone\u001b[0m, \u001b[38;5;34m50\u001b[0m)       │        \u001b[38;5;34m468,850\u001b[0m │ input_layer_26[\u001b[38;5;34m0\u001b[0m][\u001b[38;5;34m0\u001b[0m]   │\n",
       "│ (\u001b[38;5;33mEmbedding\u001b[0m)               │                        │                │                        │\n",
       "├───────────────────────────┼────────────────────────┼────────────────┼────────────────────────┤\n",
       "│ not_equal_6 (\u001b[38;5;33mNotEqual\u001b[0m)    │ (\u001b[38;5;45mNone\u001b[0m, \u001b[38;5;45mNone\u001b[0m)           │              \u001b[38;5;34m0\u001b[0m │ input_layer_26[\u001b[38;5;34m0\u001b[0m][\u001b[38;5;34m0\u001b[0m]   │\n",
       "├───────────────────────────┼────────────────────────┼────────────────┼────────────────────────┤\n",
       "│ bidirectional_24          │ (\u001b[38;5;45mNone\u001b[0m, \u001b[38;5;34m128\u001b[0m)            │         \u001b[38;5;34m58,880\u001b[0m │ encoder_embedding[\u001b[38;5;34m0\u001b[0m][\u001b[38;5;34m…\u001b[0m │\n",
       "│ (\u001b[38;5;33mBidirectional\u001b[0m)           │                        │                │ not_equal_6[\u001b[38;5;34m0\u001b[0m][\u001b[38;5;34m0\u001b[0m]      │\n",
       "├───────────────────────────┼────────────────────────┼────────────────┼────────────────────────┤\n",
       "│ dense_24 (\u001b[38;5;33mDense\u001b[0m)          │ (\u001b[38;5;45mNone\u001b[0m, \u001b[38;5;34m1\u001b[0m)              │            \u001b[38;5;34m129\u001b[0m │ bidirectional_24[\u001b[38;5;34m0\u001b[0m][\u001b[38;5;34m0\u001b[0m] │\n",
       "└───────────────────────────┴────────────────────────┴────────────────┴────────────────────────┘\n"
      ]
     },
     "metadata": {},
     "output_type": "display_data"
    },
    {
     "data": {
      "text/html": [
       "<pre style=\"white-space:pre;overflow-x:auto;line-height:normal;font-family:Menlo,'DejaVu Sans Mono',consolas,'Courier New',monospace\"><span style=\"font-weight: bold\"> Total params: </span><span style=\"color: #00af00; text-decoration-color: #00af00\">527,859</span> (2.01 MB)\n",
       "</pre>\n"
      ],
      "text/plain": [
       "\u001b[1m Total params: \u001b[0m\u001b[38;5;34m527,859\u001b[0m (2.01 MB)\n"
      ]
     },
     "metadata": {},
     "output_type": "display_data"
    },
    {
     "data": {
      "text/html": [
       "<pre style=\"white-space:pre;overflow-x:auto;line-height:normal;font-family:Menlo,'DejaVu Sans Mono',consolas,'Courier New',monospace\"><span style=\"font-weight: bold\"> Trainable params: </span><span style=\"color: #00af00; text-decoration-color: #00af00\">527,859</span> (2.01 MB)\n",
       "</pre>\n"
      ],
      "text/plain": [
       "\u001b[1m Trainable params: \u001b[0m\u001b[38;5;34m527,859\u001b[0m (2.01 MB)\n"
      ]
     },
     "metadata": {},
     "output_type": "display_data"
    },
    {
     "data": {
      "text/html": [
       "<pre style=\"white-space:pre;overflow-x:auto;line-height:normal;font-family:Menlo,'DejaVu Sans Mono',consolas,'Courier New',monospace\"><span style=\"font-weight: bold\"> Non-trainable params: </span><span style=\"color: #00af00; text-decoration-color: #00af00\">0</span> (0.00 B)\n",
       "</pre>\n"
      ],
      "text/plain": [
       "\u001b[1m Non-trainable params: \u001b[0m\u001b[38;5;34m0\u001b[0m (0.00 B)\n"
      ]
     },
     "metadata": {},
     "output_type": "display_data"
    }
   ],
   "source": [
    "baseline_LSTM = Bidir_LSTM(input_dim=max_len, output_dim=1, hidden_dim=hidden_dim)\n",
    "baseline_LSTM.compile(optimizer='adam', loss='binary_crossentropy', metrics=['accuracy'])\n",
    "baseline_LSTM.summary()"
   ]
  },
  {
   "cell_type": "code",
   "execution_count": null,
   "metadata": {
    "id": "60px9xeg_TJ2"
   },
   "outputs": [],
   "source": [
    "model_1_LSTM = Bidirectional_LSTM_Model_1(input_dim=max_len, output_dim=num_classes, hidden_dim=hidden_dim)\n",
    "model_1_LSTM.compile(optimizer='adam', loss='binary_crossentropy', metrics=['accuracy'])\n",
    "model_1_LSTM.summary()"
   ]
  },
  {
   "cell_type": "markdown",
   "metadata": {
    "id": "EFjBgdiRG3wD"
   },
   "source": [
    "# [Task 5 - 1.0 points] Training and Evaluation\n",
    "\n",
    "You are now tasked to train and evaluate the Baseline and Model 1.\n"
   ]
  },
  {
   "cell_type": "markdown",
   "metadata": {
    "id": "TWPK4umGOjtT"
   },
   "source": [
    "\n",
    "### Instructions\n",
    "\n",
    "* Train **all** models on the train set.\n",
    "* Evaluate **all** models on the validation set.\n",
    "* Compute metrics on the validation set.\n",
    "* Pick **at least** three seeds for robust estimation.\n",
    "* Pick the **best** performing model according to the observed validation set performance.\n",
    "* Evaluate your models using macro F1-score."
   ]
  },
  {
   "cell_type": "markdown",
   "metadata": {},
   "source": [
    "---"
   ]
  },
  {
   "cell_type": "code",
   "execution_count": 53,
   "metadata": {},
   "outputs": [],
   "source": [
    "df_train_T4 = df_train_T2.copy()\n",
    "df_train_T4['tweet'] = df_train_T2['tweet'].apply(lambda x: x.split() + ['<pad>']*(max_len - len(x.split())))"
   ]
  },
  {
   "cell_type": "code",
   "execution_count": 54,
   "metadata": {
    "colab": {
     "base_uri": "https://localhost:8080/",
     "height": 238
    },
    "id": "w3pQMR7p3Vnn",
    "outputId": "fd208530-718d-4cf3-e1a5-56cbd685f642"
   },
   "outputs": [
    {
     "data": {
      "text/html": [
       "<div>\n",
       "<style scoped>\n",
       "    .dataframe tbody tr th:only-of-type {\n",
       "        vertical-align: middle;\n",
       "    }\n",
       "\n",
       "    .dataframe tbody tr th {\n",
       "        vertical-align: top;\n",
       "    }\n",
       "\n",
       "    .dataframe thead th {\n",
       "        text-align: right;\n",
       "    }\n",
       "</style>\n",
       "<table border=\"1\" class=\"dataframe\">\n",
       "  <thead>\n",
       "    <tr style=\"text-align: right;\">\n",
       "      <th></th>\n",
       "      <th>lang</th>\n",
       "      <th>tweet</th>\n",
       "      <th>hard_labels_task1</th>\n",
       "    </tr>\n",
       "    <tr>\n",
       "      <th>id_EXIST</th>\n",
       "      <th></th>\n",
       "      <th></th>\n",
       "      <th></th>\n",
       "    </tr>\n",
       "  </thead>\n",
       "  <tbody>\n",
       "    <tr>\n",
       "      <th>200002</th>\n",
       "      <td>en</td>\n",
       "      <td>[write, uni, essay, local, pub, coffee, random...</td>\n",
       "      <td>1</td>\n",
       "    </tr>\n",
       "    <tr>\n",
       "      <th>200003</th>\n",
       "      <td>en</td>\n",
       "      <td>[2021, 1921, dont, appreciate, two, ride, team...</td>\n",
       "      <td>1</td>\n",
       "    </tr>\n",
       "    <tr>\n",
       "      <th>200006</th>\n",
       "      <td>en</td>\n",
       "      <td>[accord, customer, plenty, time, go, spent, st...</td>\n",
       "      <td>1</td>\n",
       "    </tr>\n",
       "    <tr>\n",
       "      <th>200007</th>\n",
       "      <td>en</td>\n",
       "      <td>[bloke, drink, beer, sorry, bloke, drink, wine...</td>\n",
       "      <td>1</td>\n",
       "    </tr>\n",
       "    <tr>\n",
       "      <th>200008</th>\n",
       "      <td>en</td>\n",
       "      <td>[new, shelf, week, look, forward, read, book, ...</td>\n",
       "      <td>0</td>\n",
       "    </tr>\n",
       "  </tbody>\n",
       "</table>\n",
       "</div>"
      ],
      "text/plain": [
       "         lang                                              tweet  \\\n",
       "id_EXIST                                                           \n",
       "200002     en  [write, uni, essay, local, pub, coffee, random...   \n",
       "200003     en  [2021, 1921, dont, appreciate, two, ride, team...   \n",
       "200006     en  [accord, customer, plenty, time, go, spent, st...   \n",
       "200007     en  [bloke, drink, beer, sorry, bloke, drink, wine...   \n",
       "200008     en  [new, shelf, week, look, forward, read, book, ...   \n",
       "\n",
       "          hard_labels_task1  \n",
       "id_EXIST                     \n",
       "200002                    1  \n",
       "200003                    1  \n",
       "200006                    1  \n",
       "200007                    1  \n",
       "200008                    0  "
      ]
     },
     "execution_count": 54,
     "metadata": {},
     "output_type": "execute_result"
    }
   ],
   "source": [
    "df_train_T4.head()"
   ]
  },
  {
   "cell_type": "code",
   "execution_count": 55,
   "metadata": {
    "id": "WCFbvQqAfzbq"
   },
   "outputs": [],
   "source": [
    "df_train_T5 = df_train_T4.copy()\n",
    "df_train_T5['tweet'] = df_train_T5['tweet'].apply(lambda x: [word_to_idx[word] for word in x])"
   ]
  },
  {
   "cell_type": "code",
   "execution_count": null,
   "metadata": {},
   "outputs": [],
   "source": [
    "df_train_T5.head()"
   ]
  },
  {
   "cell_type": "code",
   "execution_count": null,
   "metadata": {
    "id": "MTs6dZfcWsaz"
   },
   "outputs": [],
   "source": [
    "class DataGenerator(Sequence):\n",
    "    def __init__(self, data, word_to_idx, batch_size=32, shuffle=True, seed=seed):\n",
    "        super().__init__()\n",
    "        self.data = data\n",
    "        self.tweet = data.tweet\n",
    "        self.hard_labels_task1 = data.hard_labels_task1\n",
    "        self.word_to_idx = word_to_idx\n",
    "        self.batch_size = batch_size\n",
    "        self.shuffle = shuffle\n",
    "        self.seed = seed\n",
    "        self.on_epoch_end()\n",
    "\n",
    "    def __len__(self):\n",
    "        return int(np.floor(len(self.data) / self.batch_size))\n",
    "\n",
    "    def __getitem__(self, index):\n",
    "        indexes = self.indexes[index*self.batch_size: (index+1)*self.batch_size]\n",
    "        self._prepare_data()\n",
    "        \n",
    "        data_batch = np.array([self.tweet.to_list()[k] for k in indexes])\n",
    "        target_batch = np.array([self.hard_labels_task1.to_list()[k] for k in indexes])\n",
    "\n",
    "        return (data_batch, target_batch)\n",
    "\n",
    "    def on_epoch_end(self):\n",
    "        self.indexes = np.arange(len(self.data))\n",
    "        if self.shuffle:\n",
    "            if self.seed is not None:\n",
    "                np.random.seed(self.seed)\n",
    "            np.random.shuffle(self.indexes)\n",
    "    \n",
    "    def _prepare_data(self):\n",
    "        self.tweet = self.tweet.apply(lambda x: x.split() + ['<pad>']*(max_len - len(x.split())))\n",
    "        self.tweet = self.tweet.apply(lambda x: np.array([self.word_to_idx[word] for word in x]))"
   ]
  },
  {
   "cell_type": "code",
   "execution_count": null,
   "metadata": {
    "id": "Iw8X3uATa-52"
   },
   "outputs": [],
   "source": [
    "train_gen = DataGenerator(df_train_T2, batch_size=32, shuffle=True, seed=seed)"
   ]
  },
  {
   "cell_type": "code",
   "execution_count": 226,
   "metadata": {
    "colab": {
     "base_uri": "https://localhost:8080/"
    },
    "id": "iNw-rGsZVMpB",
    "outputId": "1e616722-7208-4827-eeda-48869ca5e5d5"
   },
   "outputs": [
    {
     "name": "stdout",
     "output_type": "stream",
     "text": [
      "Epoch 1/10\n",
      "\u001b[1m89/89\u001b[0m \u001b[32m━━━━━━━━━━━━━━━━━━━━\u001b[0m\u001b[37m\u001b[0m \u001b[1m5s\u001b[0m 56ms/step - accuracy: 0.4035 - loss: 0.0189\n",
      "Epoch 2/10\n",
      "\u001b[1m89/89\u001b[0m \u001b[32m━━━━━━━━━━━━━━━━━━━━\u001b[0m\u001b[37m\u001b[0m \u001b[1m5s\u001b[0m 60ms/step - accuracy: 0.4023 - loss: 0.0139\n",
      "Epoch 3/10\n",
      "\u001b[1m89/89\u001b[0m \u001b[32m━━━━━━━━━━━━━━━━━━━━\u001b[0m\u001b[37m\u001b[0m \u001b[1m9s\u001b[0m 49ms/step - accuracy: 0.4004 - loss: 0.0151\n",
      "Epoch 4/10\n",
      "\u001b[1m89/89\u001b[0m \u001b[32m━━━━━━━━━━━━━━━━━━━━\u001b[0m\u001b[37m\u001b[0m \u001b[1m6s\u001b[0m 63ms/step - accuracy: 0.3806 - loss: 0.0096\n",
      "Epoch 5/10\n",
      "\u001b[1m89/89\u001b[0m \u001b[32m━━━━━━━━━━━━━━━━━━━━\u001b[0m\u001b[37m\u001b[0m \u001b[1m9s\u001b[0m 51ms/step - accuracy: 0.3968 - loss: 0.0037\n",
      "Epoch 6/10\n",
      "\u001b[1m89/89\u001b[0m \u001b[32m━━━━━━━━━━━━━━━━━━━━\u001b[0m\u001b[37m\u001b[0m \u001b[1m7s\u001b[0m 69ms/step - accuracy: 0.3989 - loss: 0.0029\n",
      "Epoch 7/10\n",
      "\u001b[1m89/89\u001b[0m \u001b[32m━━━━━━━━━━━━━━━━━━━━\u001b[0m\u001b[37m\u001b[0m \u001b[1m5s\u001b[0m 50ms/step - accuracy: 0.3996 - loss: 0.0021\n",
      "Epoch 8/10\n",
      "\u001b[1m89/89\u001b[0m \u001b[32m━━━━━━━━━━━━━━━━━━━━\u001b[0m\u001b[37m\u001b[0m \u001b[1m5s\u001b[0m 54ms/step - accuracy: 0.4017 - loss: 0.0017\n",
      "Epoch 9/10\n",
      "\u001b[1m89/89\u001b[0m \u001b[32m━━━━━━━━━━━━━━━━━━━━\u001b[0m\u001b[37m\u001b[0m \u001b[1m6s\u001b[0m 62ms/step - accuracy: 0.4014 - loss: 0.0016\n",
      "Epoch 10/10\n",
      "\u001b[1m89/89\u001b[0m \u001b[32m━━━━━━━━━━━━━━━━━━━━\u001b[0m\u001b[37m\u001b[0m \u001b[1m5s\u001b[0m 52ms/step - accuracy: 0.4057 - loss: 0.0010\n"
     ]
    },
    {
     "data": {
      "text/plain": [
       "<keras.src.callbacks.history.History at 0x79cfdaf17a30>"
      ]
     },
     "execution_count": 226,
     "metadata": {},
     "output_type": "execute_result"
    }
   ],
   "source": [
    "baseline_LSTM.fit(train_gen, batch_size=32, epochs=10)"
   ]
  },
  {
   "cell_type": "markdown",
   "metadata": {
    "id": "CSy9sPwYHUoD"
   },
   "source": [
    "# [Task 6 - 1.0 points] Transformers\n",
    "\n",
    "In this section, you will use a transformer model specifically trained for hate speech detection, namely [Twitter-roBERTa-base for Hate Speech Detection](https://huggingface.co/cardiffnlp/twitter-roberta-base-hate).\n",
    "\n",
    "\n"
   ]
  },
  {
   "cell_type": "markdown",
   "metadata": {
    "collapsed": false,
    "id": "sis25UdYIMER"
   },
   "source": [
    "### Relevant Material\n",
    "- Tutorial 3"
   ]
  },
  {
   "cell_type": "markdown",
   "metadata": {
    "collapsed": false,
    "id": "_N_UNitNIMER"
   },
   "source": [
    "### Instructions\n",
    "1. **Load the Tokenizer and Model**\n",
    "\n",
    "2. **Preprocess the Dataset**:\n",
    "   You will need to preprocess your dataset to prepare it for input into the model. Tokenize your text data using the appropriate tokenizer and ensure it is formatted correctly.\n",
    "\n",
    "   **Note**: You have to use the plain text of the dataset and not the version that you tokenized before, as you need to tokenize the cleaned text obtained after the initial cleaning process.\n",
    "\n",
    "3. **Train the Model**:\n",
    "   Use the `Trainer` to train the model on your training data.\n",
    "\n",
    "4. **Evaluate the Model on the Test Set** using F1-macro."
   ]
  },
  {
   "cell_type": "markdown",
   "metadata": {},
   "source": [
    "---"
   ]
  },
  {
   "cell_type": "code",
   "execution_count": null,
   "metadata": {},
   "outputs": [],
   "source": [
    "### CODE HERE ###"
   ]
  },
  {
   "cell_type": "markdown",
   "metadata": {
    "id": "3gtiG2mAL3HM"
   },
   "source": [
    "# [Task 7 - 0.5 points] Error Analysis\n",
    "\n",
    "### Instructions\n",
    "\n",
    "After evaluating the model, perform a brief error analysis:\n",
    "\n",
    " - Review the results and identify common errors.\n",
    "\n",
    " - Summarize your findings regarding the errors and their impact on performance (e.g. but not limited to Out-of-Vocabulary (OOV) words, data imbalance, and performance differences between the custom model and the transformer...)\n",
    " - Suggest possible solutions to address the identified errors.\n",
    "\n"
   ]
  },
  {
   "cell_type": "markdown",
   "metadata": {},
   "source": [
    "---"
   ]
  },
  {
   "cell_type": "code",
   "execution_count": null,
   "metadata": {},
   "outputs": [],
   "source": [
    "### CODE HERE ###"
   ]
  },
  {
   "cell_type": "markdown",
   "metadata": {
    "id": "P42XYjb6K3k5"
   },
   "source": [
    "# [Task 8 - 0.5 points] Report\n",
    "\n",
    "Wrap up your experiment in a short report (up to 2 pages)."
   ]
  },
  {
   "cell_type": "markdown",
   "metadata": {
    "id": "N9oXSaW1K5S7"
   },
   "source": [
    "### Instructions\n",
    "\n",
    "* Use the NLP course report template.\n",
    "* Summarize each task in the report following the provided template."
   ]
  },
  {
   "cell_type": "markdown",
   "metadata": {
    "id": "MHw2L6PlLDyE"
   },
   "source": [
    "### Recommendations\n",
    "\n",
    "The report is not a copy-paste of graphs, tables, and command outputs.\n",
    "\n",
    "* Summarize classification performance in Table format.\n",
    "* **Do not** report command outputs or screenshots.\n",
    "* Report learning curves in Figure format.\n",
    "* The error analysis section should summarize your findings.\n"
   ]
  },
  {
   "cell_type": "markdown",
   "metadata": {
    "id": "bMUqh1utLflM"
   },
   "source": [
    "# Submission\n",
    "\n",
    "* **Submit** your report in PDF format.\n",
    "* **Submit** your python notebook.\n",
    "* Make sure your notebook is **well organized**, with no temporary code, commented sections, tests, etc...\n",
    "* You can upload **model weights** in a cloud repository and report the link in the report."
   ]
  },
  {
   "cell_type": "markdown",
   "metadata": {
    "id": "ypagJed7LheY"
   },
   "source": [
    "# FAQ\n",
    "\n",
    "Please check this frequently asked questions before contacting us"
   ]
  },
  {
   "cell_type": "markdown",
   "metadata": {
    "id": "bgtFwKXMLjww"
   },
   "source": [
    "### Execution Order\n",
    "\n",
    "You are **free** to address tasks in any order (if multiple orderings are available)."
   ]
  },
  {
   "cell_type": "markdown",
   "metadata": {
    "id": "_BjMk5e_M4n7"
   },
   "source": [
    "### Trainable Embeddings\n",
    "\n",
    "You are **free** to define a trainable or non-trainable Embedding layer to load the GloVe embeddings."
   ]
  },
  {
   "cell_type": "markdown",
   "metadata": {
    "id": "e8TVgpYlM6s5"
   },
   "source": [
    "### Model architecture\n",
    "\n",
    "You **should not** change the architecture of a model (i.e., its layers).\n",
    "However, you are **free** to play with their hyper-parameters.\n"
   ]
  },
  {
   "cell_type": "markdown",
   "metadata": {
    "id": "Ia6IapI1M_A7"
   },
   "source": [
    "### Neural Libraries\n",
    "\n",
    "You are **free** to use any library of your choice to implement the networks (e.g., Keras, Tensorflow, PyTorch, JAX, etc...)"
   ]
  },
  {
   "cell_type": "markdown",
   "metadata": {
    "id": "bWDaW8DyNBu5"
   },
   "source": [
    "### Keras TimeDistributed Dense layer\n",
    "\n",
    "If you are using Keras, we recommend wrapping the final Dense layer with `TimeDistributed`."
   ]
  },
  {
   "cell_type": "markdown",
   "metadata": {
    "id": "R1WcrpemNEQm"
   },
   "source": [
    "### Robust Evaluation\n",
    "\n",
    "Each model is trained with at least 3 random seeds.\n",
    "\n",
    "Task 4 requires you to compute the average performance over the 3 seeds and its corresponding standard deviation."
   ]
  },
  {
   "cell_type": "markdown",
   "metadata": {
    "id": "_mVe5dqzNI_u"
   },
   "source": [
    "### Model Selection for Analysis\n",
    "\n",
    "To carry out the error analysis you are **free** to either\n",
    "\n",
    "* Pick examples or perform comparisons with an individual seed run model (e.g., Baseline seed 1337)\n",
    "* Perform ensembling via, for instance, majority voting to obtain a single model."
   ]
  },
  {
   "cell_type": "markdown",
   "metadata": {
    "id": "L8a4pDKSNKzI"
   },
   "source": [
    "### Error Analysis\n",
    "\n",
    "Some topics for discussion include:\n",
    "   * Precision/Recall curves.\n",
    "   * Confusion matrices.\n",
    "   * Specific misclassified samples."
   ]
  },
  {
   "cell_type": "markdown",
   "metadata": {
    "collapsed": false,
    "id": "2LnpfYNWIMET"
   },
   "source": [
    "### Bonus Points\n",
    "Bonus points are arbitrarily assigned based on significant contributions such as:\n",
    "- Outstanding error analysis\n",
    "- Masterclass code organization\n",
    "- Suitable extensions\n",
    "Note that bonus points are only assigned if all task points are attributed (i.e., 6/6).\n",
    "\n",
    "**Possible Extensions/Explorations for Bonus Points:**\n",
    "- **Try other preprocessing strategies**: e.g., but not limited to, explore techniques tailored specifically for tweets or  methods that are common in social media text.\n",
    "- **Experiment with other custom architectures or models from HuggingFace**\n",
    "- **Explore Spanish tweets**: e.g., but not limited to, leverage multilingual models to process Spanish tweets and assess their performance compared to monolingual models.\n",
    "\n"
   ]
  },
  {
   "cell_type": "markdown",
   "metadata": {
    "id": "8xmMKE7vLu-y"
   },
   "source": [
    "\n",
    "\n",
    "\n",
    "\n",
    "# The End"
   ]
  }
 ],
 "metadata": {
  "colab": {
   "provenance": []
  },
  "kernelspec": {
   "display_name": "Python 3",
   "name": "python3"
  },
  "language_info": {
   "codemirror_mode": {
    "name": "ipython",
    "version": 3
   },
   "file_extension": ".py",
   "mimetype": "text/x-python",
   "name": "python",
   "nbconvert_exporter": "python",
   "pygments_lexer": "ipython3",
   "version": "3.11.9"
  }
 },
 "nbformat": 4,
 "nbformat_minor": 0
}
